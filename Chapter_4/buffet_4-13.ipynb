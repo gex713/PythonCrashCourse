{
 "cells": [
  {
   "cell_type": "code",
   "execution_count": 8,
   "metadata": {},
   "outputs": [
    {
     "name": "stdout",
     "output_type": "stream",
     "text": [
      "chicken\n",
      "potatoes\n",
      "shrimp\n",
      "green beans\n",
      "pork\n",
      "\n",
      "New Menu:\n",
      "chicken\n",
      "corn on the cob\n",
      "shrimp\n",
      "meatloaf\n",
      "pork\n"
     ]
    }
   ],
   "source": [
    "# Buffet with Tuples\n",
    "foods = ('chicken', 'potatoes', 'shrimp', 'green beans', 'pork')\n",
    "\n",
    "for food in foods:\n",
    "    print(food)\n",
    "\n",
    "# Uncomment to see the error showing you cant overwrite values in a tuple\n",
    "# foods[2] = 'ham'\n",
    "\n",
    "print('\\nNew Menu:')\n",
    "foods = ('chicken', 'corn on the cob', 'shrimp', 'meatloaf', 'pork')\n",
    "for food in foods:\n",
    "    print(food)"
   ]
  }
 ],
 "metadata": {
  "interpreter": {
   "hash": "e595f85de599493997975742c38fdbdf439561c4d118c24f05252253c8fa7d2c"
  },
  "kernelspec": {
   "display_name": "Python 3.8.10 64-bit (windows store)",
   "language": "python",
   "name": "python3"
  },
  "language_info": {
   "codemirror_mode": {
    "name": "ipython",
    "version": 3
   },
   "file_extension": ".py",
   "mimetype": "text/x-python",
   "name": "python",
   "nbconvert_exporter": "python",
   "pygments_lexer": "ipython3",
   "version": "3.8.10"
  },
  "orig_nbformat": 4
 },
 "nbformat": 4,
 "nbformat_minor": 2
}
