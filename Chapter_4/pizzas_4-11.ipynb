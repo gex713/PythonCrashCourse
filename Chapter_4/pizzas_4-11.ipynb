{
 "cells": [
  {
   "cell_type": "code",
   "execution_count": 7,
   "metadata": {},
   "outputs": [
    {
     "name": "stdout",
     "output_type": "stream",
     "text": [
      "Pepperoni\n",
      "Herb Chicken Mediterranian\n",
      "Greek\n",
      "Stuffed Crust\n"
     ]
    }
   ],
   "source": [
    "pizzas = ['pepperoni', 'herb chicken mediterranian', 'greek', 'stuffed crust']\n",
    "for pizza in pizzas:\n",
    "    print(pizza.title())"
   ]
  },
  {
   "cell_type": "code",
   "execution_count": 8,
   "metadata": {},
   "outputs": [
    {
     "name": "stdout",
     "output_type": "stream",
     "text": [
      "I like Pepperoni pizza.\n",
      "I like Herb Chicken Mediterranian pizza.\n",
      "I like Greek pizza.\n",
      "I like Stuffed Crust pizza.\n"
     ]
    }
   ],
   "source": [
    "for pizza in pizzas:\n",
    "    print(f'I like {pizza.title()} pizza.')"
   ]
  },
  {
   "cell_type": "code",
   "execution_count": 9,
   "metadata": {},
   "outputs": [
    {
     "name": "stdout",
     "output_type": "stream",
     "text": [
      "I like Pepperoni pizza.\n",
      "I like Herb Chicken Mediterranian pizza.\n",
      "I like Greek pizza.\n",
      "I like Stuffed Crust pizza.\n",
      "Gosh, I really like pizza.\n"
     ]
    }
   ],
   "source": [
    "for pizza in pizzas:\n",
    "    print(f'I like {pizza.title()} pizza.')\n",
    "print('Gosh, I really like pizza.')"
   ]
  },
  {
   "cell_type": "code",
   "execution_count": 10,
   "metadata": {},
   "outputs": [
    {
     "name": "stdout",
     "output_type": "stream",
     "text": [
      "My favorite pizzas are:\n",
      "pepperoni\n",
      "herb chicken mediterranian\n",
      "greek\n",
      "stuffed crust\n",
      "bbq\n",
      "\n",
      "My friend's favorite pizzas are:\n",
      "pepperoni\n",
      "herb chicken mediterranian\n",
      "greek\n",
      "stuffed crust\n",
      "mushroom\n"
     ]
    }
   ],
   "source": [
    "# 4-11, Copy Pizzas\n",
    "friend_pizzas = pizzas[:]\n",
    "pizzas.append('bbq')\n",
    "friend_pizzas.append('mushroom')\n",
    "\n",
    "print(f'My favorite pizzas are:')\n",
    "for pizza in pizzas:\n",
    "    print(pizza)\n",
    "print(f\"\\nMy friend's favorite pizzas are:\")\n",
    "for pizza in friend_pizzas:\n",
    "    print(pizza)"
   ]
  }
 ],
 "metadata": {
  "interpreter": {
   "hash": "e595f85de599493997975742c38fdbdf439561c4d118c24f05252253c8fa7d2c"
  },
  "kernelspec": {
   "display_name": "Python 3.8.10 64-bit (windows store)",
   "language": "python",
   "name": "python3"
  },
  "language_info": {
   "codemirror_mode": {
    "name": "ipython",
    "version": 3
   },
   "file_extension": ".py",
   "mimetype": "text/x-python",
   "name": "python",
   "nbconvert_exporter": "python",
   "pygments_lexer": "ipython3",
   "version": "3.8.10"
  },
  "orig_nbformat": 4
 },
 "nbformat": 4,
 "nbformat_minor": 2
}
