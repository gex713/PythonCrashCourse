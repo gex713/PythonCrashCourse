{
 "cells": [
  {
   "cell_type": "code",
   "execution_count": 2,
   "metadata": {},
   "outputs": [
    {
     "name": "stdout",
     "output_type": "stream",
     "text": [
      "cow\n",
      "horse\n",
      "pig\n",
      "goose\n",
      "chicken\n"
     ]
    }
   ],
   "source": [
    "animals = ['cow', 'horse', 'pig', 'goose', 'chicken']\n",
    "for animal in animals:\n",
    "    print(animal)"
   ]
  },
  {
   "cell_type": "code",
   "execution_count": 3,
   "metadata": {},
   "outputs": [
    {
     "name": "stdout",
     "output_type": "stream",
     "text": [
      "You can eat a cow\n",
      "You can eat a horse\n",
      "You can eat a pig\n",
      "You can eat a goose\n",
      "You can eat a chicken\n"
     ]
    }
   ],
   "source": [
    "for animal in animals:\n",
    "    print(f'You can eat a {animal}')"
   ]
  },
  {
   "cell_type": "code",
   "execution_count": 5,
   "metadata": {},
   "outputs": [
    {
     "name": "stdout",
     "output_type": "stream",
     "text": [
      "You can eat a cow\n",
      "You can eat a horse\n",
      "You can eat a pig\n",
      "You can eat a goose\n",
      "You can eat a chicken\n",
      "All these animals can be found on a farm and are technically edible!\n"
     ]
    }
   ],
   "source": [
    "for animal in animals:\n",
    "    print(f'You can eat a {animal}')\n",
    "\n",
    "print('All these animals can be found on a farm and are technically edible!')"
   ]
  }
 ],
 "metadata": {
  "interpreter": {
   "hash": "e595f85de599493997975742c38fdbdf439561c4d118c24f05252253c8fa7d2c"
  },
  "kernelspec": {
   "display_name": "Python 3.8.10 64-bit (windows store)",
   "language": "python",
   "name": "python3"
  },
  "language_info": {
   "codemirror_mode": {
    "name": "ipython",
    "version": 3
   },
   "file_extension": ".py",
   "mimetype": "text/x-python",
   "name": "python",
   "nbconvert_exporter": "python",
   "pygments_lexer": "ipython3",
   "version": "3.8.10"
  },
  "orig_nbformat": 4
 },
 "nbformat": 4,
 "nbformat_minor": 2
}
