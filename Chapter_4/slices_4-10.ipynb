{
 "cells": [
  {
   "cell_type": "code",
   "execution_count": 1,
   "metadata": {},
   "outputs": [
    {
     "name": "stdout",
     "output_type": "stream",
     "text": [
      "cow\n",
      "horse\n",
      "pig\n",
      "goose\n",
      "chicken\n"
     ]
    }
   ],
   "source": [
    "# Slices 4-10\n",
    "# Copied the list, per instructions, from the Animals program\n",
    "animals = ['cow', 'horse', 'pig', 'goose', 'chicken']\n",
    "for animal in animals:\n",
    "    print(animal)"
   ]
  },
  {
   "cell_type": "code",
   "execution_count": 7,
   "metadata": {},
   "outputs": [
    {
     "name": "stdout",
     "output_type": "stream",
     "text": [
      "The first three items in the list are:\n",
      "cow\n",
      "horse\n",
      "pig\n",
      "\n",
      "The three items from the middle of the list are:\n",
      "horse\n",
      "pig\n",
      "goose\n",
      "\n",
      "The last three items on the list are:\n",
      "pig\n",
      "goose\n",
      "chicken\n"
     ]
    }
   ],
   "source": [
    "print('The first three items in the list are:')\n",
    "for animal in animals[:3]:\n",
    "    print(animal)\n",
    "\n",
    "print('\\nThe three items from the middle of the list are:')\n",
    "# I know the list is 5 items long, so I know where to start, if I didn't I would have to use some math to figure it out.\n",
    "for animal in animals[1:4]:\n",
    "    print(animal)\n",
    "\n",
    "print('\\nThe last three items on the list are:')\n",
    "for animal in animals[-3:]:\n",
    "    print(animal)"
   ]
  }
 ],
 "metadata": {
  "interpreter": {
   "hash": "e595f85de599493997975742c38fdbdf439561c4d118c24f05252253c8fa7d2c"
  },
  "kernelspec": {
   "display_name": "Python 3.8.10 64-bit (windows store)",
   "language": "python",
   "name": "python3"
  },
  "language_info": {
   "codemirror_mode": {
    "name": "ipython",
    "version": 3
   },
   "file_extension": ".py",
   "mimetype": "text/x-python",
   "name": "python",
   "nbconvert_exporter": "python",
   "pygments_lexer": "ipython3",
   "version": "3.8.10"
  },
  "orig_nbformat": 4
 },
 "nbformat": 4,
 "nbformat_minor": 2
}
