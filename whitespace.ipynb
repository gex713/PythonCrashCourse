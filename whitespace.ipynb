{
 "cells": [
  {
   "cell_type": "code",
   "execution_count": 9,
   "metadata": {},
   "outputs": [
    {
     "name": "stdout",
     "output_type": "stream",
     "text": [
      "Python\n",
      "\tPython\n",
      "Languages:\n",
      "\tPython\n",
      "\tC\n",
      "\tJavascript\n",
      "python \n",
      "python\n",
      "python \n",
      "python\n",
      "  python  \n",
      "python  \n",
      "python\n"
     ]
    }
   ],
   "source": [
    "print(\"Python\")\n",
    "print(\"\\tPython\")\n",
    "print(\"Languages:\\n\\tPython\\n\\tC\\n\\tJavascript\")\n",
    "\n",
    "favorite_language = 'python '\n",
    "# Highlight the outputs to see the extra whitespace\n",
    "# Pay attention that rstrip does not modify the original variable value\n",
    "print(favorite_language)\n",
    "print(favorite_language.rstrip())\n",
    "print(favorite_language)\n",
    "# It can overwrite the previous value by assigning the result to the variable\n",
    "favorite_language = favorite_language.rstrip()\n",
    "print(favorite_language)\n",
    "\n",
    "favorite_language = '  python  '\n",
    "print(favorite_language)\n",
    "print(favorite_language.lstrip())\n",
    "print(favorite_language.strip())"
   ]
  }
 ],
 "metadata": {
  "interpreter": {
   "hash": "3aa81d3e10d08a31fb3625dae1e2a0f4ee71d5f6eaa838bd13ea13a30a226ab5"
  },
  "kernelspec": {
   "display_name": "Python 3.8.10 64-bit (windows store)",
   "language": "python",
   "name": "python3"
  },
  "language_info": {
   "codemirror_mode": {
    "name": "ipython",
    "version": 3
   },
   "file_extension": ".py",
   "mimetype": "text/x-python",
   "name": "python",
   "nbconvert_exporter": "python",
   "pygments_lexer": "ipython3",
   "version": "3.8.10"
  },
  "orig_nbformat": 4
 },
 "nbformat": 4,
 "nbformat_minor": 2
}
