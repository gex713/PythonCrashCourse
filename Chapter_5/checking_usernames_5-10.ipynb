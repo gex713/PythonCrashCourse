{
 "cells": [
  {
   "cell_type": "code",
   "execution_count": 4,
   "metadata": {},
   "outputs": [
    {
     "name": "stdout",
     "output_type": "stream",
     "text": [
      "The username LegendOfHilda is available!\n",
      "The username spidey_sense is available!\n",
      "Username scooby-doo-LUVR is already taken, please choose a different username.\n",
      "The username random_PeNgUiN is available!\n",
      "Username KoolKid83 is already taken, please choose a different username.\n"
     ]
    }
   ],
   "source": [
    "current_users = [\"KoolKid83\", \"fr3dKr3ug3r\", \"chikin_nugget_slayer\", \"x_X_noice_X_x\", \"scooby-doo-LUVR\"]\n",
    "\n",
    "new_users = [\"LegendOfHilda\", \"spidey_sense\", \"scooby-doo-LUVR\", \"random_PeNgUiN\", \"KoolKid83\"]\n",
    "\n",
    "lowercase_current_users = []\n",
    "\n",
    "for name in current_users:\n",
    "    lowercase_current_users.append(name.lower())\n",
    "\n",
    "for new_user in new_users:\n",
    "    if new_user.lower() in lowercase_current_users:\n",
    "        print(f\"Username {new_user} is already taken, please choose a different username.\")\n",
    "    else:\n",
    "        print(f\"The username {new_user} is available!\")"
   ]
  }
 ],
 "metadata": {
  "interpreter": {
   "hash": "e595f85de599493997975742c38fdbdf439561c4d118c24f05252253c8fa7d2c"
  },
  "kernelspec": {
   "display_name": "Python 3.8.10 64-bit (windows store)",
   "language": "python",
   "name": "python3"
  },
  "language_info": {
   "codemirror_mode": {
    "name": "ipython",
    "version": 3
   },
   "file_extension": ".py",
   "mimetype": "text/x-python",
   "name": "python",
   "nbconvert_exporter": "python",
   "pygments_lexer": "ipython3",
   "version": "3.8.10"
  },
  "orig_nbformat": 4
 },
 "nbformat": 4,
 "nbformat_minor": 2
}
