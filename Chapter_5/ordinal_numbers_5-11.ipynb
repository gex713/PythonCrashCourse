{
 "cells": [
  {
   "cell_type": "code",
   "execution_count": 4,
   "metadata": {},
   "outputs": [
    {
     "name": "stdout",
     "output_type": "stream",
     "text": [
      "1st\n",
      "2nd\n",
      "3rd\n",
      "4th\n",
      "5th\n",
      "6th\n",
      "7th\n",
      "8th\n",
      "9th\n",
      "\n",
      "Different method... \n",
      "\n",
      "1st\n",
      "2nd\n",
      "3rd\n",
      "4th\n",
      "5th\n",
      "6th\n",
      "7th\n",
      "8th\n",
      "9th\n"
     ]
    }
   ],
   "source": [
    "nums = [1, 2, 3, 4, 5, 6, 7, 8, 9]\n",
    "\n",
    "for num in nums:\n",
    "    if num == 1:\n",
    "        print(f\"{num}st\")\n",
    "    elif num == 2:\n",
    "        print(f\"{num}nd\")\n",
    "    elif num == 3:\n",
    "        print(f\"{num}rd\")\n",
    "    else:\n",
    "        print(f\"{num}th\")\n",
    "\n",
    "# Another way to do this...\n",
    "\n",
    "print(\"\\nDifferent method... \\n\")\n",
    "for num in nums:\n",
    "    appendix = \"\"\n",
    "    if num == 1:\n",
    "        appendix = \"st\"\n",
    "    elif num == 2:\n",
    "        appendix = \"nd\"\n",
    "    elif num == 3:\n",
    "        appendix = \"rd\"\n",
    "    else:\n",
    "        appendix = \"th\"\n",
    "    print(f\"{num}{appendix}\")"
   ]
  }
 ],
 "metadata": {
  "interpreter": {
   "hash": "e595f85de599493997975742c38fdbdf439561c4d118c24f05252253c8fa7d2c"
  },
  "kernelspec": {
   "display_name": "Python 3.8.10 64-bit (windows store)",
   "language": "python",
   "name": "python3"
  },
  "language_info": {
   "codemirror_mode": {
    "name": "ipython",
    "version": 3
   },
   "file_extension": ".py",
   "mimetype": "text/x-python",
   "name": "python",
   "nbconvert_exporter": "python",
   "pygments_lexer": "ipython3",
   "version": "3.8.10"
  },
  "orig_nbformat": 4
 },
 "nbformat": 4,
 "nbformat_minor": 2
}
