{
 "cells": [
  {
   "cell_type": "code",
   "execution_count": 2,
   "metadata": {},
   "outputs": [
    {
     "name": "stdout",
     "output_type": "stream",
     "text": [
      "You just gained 5 points!\n"
     ]
    }
   ],
   "source": [
    "alien_color = 'green'\n",
    "\n",
    "if alien_color == 'green':\n",
    "    print(\"You just gained 5 points!\")"
   ]
  },
  {
   "cell_type": "code",
   "execution_count": 3,
   "metadata": {},
   "outputs": [],
   "source": [
    "alien_color = \"red\"\n",
    "\n",
    "if alien_color == 'green':\n",
    "    print(\"You just gained 5 points!\")"
   ]
  },
  {
   "cell_type": "code",
   "execution_count": 5,
   "metadata": {},
   "outputs": [
    {
     "name": "stdout",
     "output_type": "stream",
     "text": [
      "+10 points!\n",
      "+5 points!\n"
     ]
    }
   ],
   "source": [
    "#5-4, elif checks\n",
    " \n",
    "alien_color = \"red\"\n",
    "\n",
    "# Runs the else block\n",
    "if alien_color == 'green':\n",
    "    print(\"+5 points!\")\n",
    "else:\n",
    "    print(\"+10 points!\")\n",
    "\n",
    "\n",
    "alien_color = \"green\"\n",
    "\n",
    "# Runs the If block\n",
    "if alien_color == 'green':\n",
    "    print(\"+5 points!\")\n",
    "else:\n",
    "    print(\"+10 points!\")"
   ]
  },
  {
   "cell_type": "code",
   "execution_count": 6,
   "metadata": {},
   "outputs": [
    {
     "name": "stdout",
     "output_type": "stream",
     "text": [
      "+5 points!\n",
      "+10 points!\n",
      "+15 points!\n"
     ]
    }
   ],
   "source": [
    "# 5-5 if-elif-else chains\n",
    "\n",
    "alien_color = \"green\"\n",
    "\n",
    "if alien_color == 'green':\n",
    "    print(\"+5 points!\")\n",
    "elif alien_color == 'yellow':\n",
    "    print(\"+10 points!\")\n",
    "elif alien_color == 'red':\n",
    "    print(\"+15 points!\")\n",
    "\n",
    "alien_color = \"yellow\"\n",
    "\n",
    "if alien_color == 'green':\n",
    "    print(\"+5 points!\")\n",
    "elif alien_color == 'yellow':\n",
    "    print(\"+10 points!\")\n",
    "elif alien_color == 'red':\n",
    "    print(\"+15 points!\")\n",
    "\n",
    "alien_color = \"red\"\n",
    "\n",
    "if alien_color == 'green':\n",
    "    print(\"+5 points!\")\n",
    "elif alien_color == 'yellow':\n",
    "    print(\"+10 points!\")\n",
    "elif alien_color == 'red':\n",
    "    print(\"+15 points!\")"
   ]
  }
 ],
 "metadata": {
  "interpreter": {
   "hash": "e595f85de599493997975742c38fdbdf439561c4d118c24f05252253c8fa7d2c"
  },
  "kernelspec": {
   "display_name": "Python 3.8.10 64-bit (windows store)",
   "language": "python",
   "name": "python3"
  },
  "language_info": {
   "codemirror_mode": {
    "name": "ipython",
    "version": 3
   },
   "file_extension": ".py",
   "mimetype": "text/x-python",
   "name": "python",
   "nbconvert_exporter": "python",
   "pygments_lexer": "ipython3",
   "version": "3.8.10"
  },
  "orig_nbformat": 4
 },
 "nbformat": 4,
 "nbformat_minor": 2
}
