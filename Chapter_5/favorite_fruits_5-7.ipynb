{
 "cells": [
  {
   "cell_type": "code",
   "execution_count": 2,
   "metadata": {},
   "outputs": [
    {
     "name": "stdout",
     "output_type": "stream",
     "text": [
      "You like oranges!\n",
      "You like apples!\n",
      "You like bananas!\n"
     ]
    }
   ],
   "source": [
    "favorite_fruits = [\"apples\", \"oranges\", \"bananas\", \"kiwis\"]\n",
    "\n",
    "if \"jackfruit\" in favorite_fruits:\n",
    "    print(\"You like jackfruit!\")\n",
    "if \"oranges\" in favorite_fruits:\n",
    "    print(\"You like oranges!\")\n",
    "if \"apples\" in favorite_fruits:\n",
    "    print(\"You like apples!\")\n",
    "if \"bananas\" in favorite_fruits:\n",
    "    print(\"You like bananas!\")\n",
    "if \"strawberries\" in favorite_fruits:\n",
    "    print(\"You like strawberries!\")"
   ]
  }
 ],
 "metadata": {
  "interpreter": {
   "hash": "e595f85de599493997975742c38fdbdf439561c4d118c24f05252253c8fa7d2c"
  },
  "kernelspec": {
   "display_name": "Python 3.8.10 64-bit (windows store)",
   "language": "python",
   "name": "python3"
  },
  "language_info": {
   "codemirror_mode": {
    "name": "ipython",
    "version": 3
   },
   "file_extension": ".py",
   "mimetype": "text/x-python",
   "name": "python",
   "nbconvert_exporter": "python",
   "pygments_lexer": "ipython3",
   "version": "3.8.10"
  },
  "orig_nbformat": 4
 },
 "nbformat": 4,
 "nbformat_minor": 2
}
