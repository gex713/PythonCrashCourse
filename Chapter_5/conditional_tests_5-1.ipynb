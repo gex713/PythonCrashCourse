{
 "cells": [
  {
   "cell_type": "code",
   "execution_count": 2,
   "metadata": {},
   "outputs": [
    {
     "name": "stdout",
     "output_type": "stream",
     "text": [
      "Is car == 'subaru'? I predict True\n",
      "True\n",
      "Is car == 'bmw'? I predict False\n",
      "False\n",
      "Is car.lower() == 'bmw'? I predict True\n",
      "True\n",
      "Is age > 65? I predict False\n",
      "False\n",
      "Is age < 65? I predict True\n",
      "True\n",
      "Is age <= 21? I predict True\n",
      "True\n",
      "Is age >= 18? I predict True\n",
      "True\n",
      "Is age >= 50? I predict False\n",
      "False\n",
      "Is age > 18 and age < 50? I predict True\n",
      "True\n",
      "Is car == 'BMW' or 'bmw'? I predict True\n",
      "True\n",
      "is 'Windows' in the list? I predict False\n",
      "False\n",
      "is 'linux' in the list? I predict True\n",
      "True\n",
      "is 'Windows' in the list? I predict False\n"
     ]
    },
    {
     "ename": "AttributeError",
     "evalue": "'list' object has no attribute 'title'",
     "output_type": "error",
     "traceback": [
      "\u001b[1;31m---------------------------------------------------------------------------\u001b[0m",
      "\u001b[1;31mAttributeError\u001b[0m                            Traceback (most recent call last)",
      "\u001b[1;32mc:\\Users\\gex71\\Documents\\repos\\python_work\\Chapter_5\\conditional_tests_5-1.ipynb Cell 1'\u001b[0m in \u001b[0;36m<cell line: 42>\u001b[1;34m()\u001b[0m\n\u001b[0;32m     <a href='vscode-notebook-cell:/c%3A/Users/gex71/Documents/repos/python_work/Chapter_5/conditional_tests_5-1.ipynb#ch0000000?line=38'>39</a>\u001b[0m \u001b[39mprint\u001b[39m(\u001b[39m'\u001b[39m\u001b[39mlinux\u001b[39m\u001b[39m'\u001b[39m \u001b[39min\u001b[39;00m operating_systems)\n\u001b[0;32m     <a href='vscode-notebook-cell:/c%3A/Users/gex71/Documents/repos/python_work/Chapter_5/conditional_tests_5-1.ipynb#ch0000000?line=40'>41</a>\u001b[0m \u001b[39mprint\u001b[39m(\u001b[39m\"\u001b[39m\u001b[39mis \u001b[39m\u001b[39m'\u001b[39m\u001b[39mWindows\u001b[39m\u001b[39m'\u001b[39m\u001b[39m in the list? I predict False\u001b[39m\u001b[39m\"\u001b[39m)\n\u001b[1;32m---> <a href='vscode-notebook-cell:/c%3A/Users/gex71/Documents/repos/python_work/Chapter_5/conditional_tests_5-1.ipynb#ch0000000?line=41'>42</a>\u001b[0m \u001b[39mprint\u001b[39m(\u001b[39m'\u001b[39m\u001b[39mWindows\u001b[39m\u001b[39m'\u001b[39m \u001b[39min\u001b[39;00m operating_systems\u001b[39m.\u001b[39;49mtitle())\n",
      "\u001b[1;31mAttributeError\u001b[0m: 'list' object has no attribute 'title'"
     ]
    }
   ],
   "source": [
    "car = 'subaru'\n",
    "print(\"Is car == 'subaru'? I predict True\")\n",
    "print(car == 'subaru')\n",
    "\n",
    "car = 'BMW'\n",
    "print(\"Is car == 'bmw'? I predict False\")\n",
    "print(car == 'bmw')\n",
    "\n",
    "print(\"Is car.lower() == 'bmw'? I predict True\")\n",
    "print(car.lower() == 'bmw')\n",
    "\n",
    "age = 21\n",
    "print(\"Is age > 65? I predict False\")\n",
    "print(age > 65)\n",
    "\n",
    "print (\"Is age < 65? I predict True\")\n",
    "print(age < 65)\n",
    "\n",
    "print(\"Is age <= 21? I predict True\")\n",
    "print(age <= 21)\n",
    "\n",
    "print(\"Is age >= 18? I predict True\")\n",
    "print(age >= 18)\n",
    "\n",
    "print(\"Is age >= 50? I predict False\")\n",
    "print(age >= 50)\n",
    "\n",
    "print(\"Is age > 18 and age < 50? I predict True\")\n",
    "print(age > 18 and age < 50)\n",
    "\n",
    "print(\"Is car == 'BMW' or 'bmw'? I predict True\")\n",
    "print(car == 'BMW' or car == 'bmw')\n",
    "\n",
    "operating_systems = ['windows', 'mac', 'linux']\n",
    "print(\"is 'Windows' in the list? I predict False\")\n",
    "print('Windows' in operating_systems)\n",
    "\n",
    "print(\"is 'linux' in the list? I predict True\")\n",
    "print('linux' in operating_systems)\n"
   ]
  }
 ],
 "metadata": {
  "interpreter": {
   "hash": "e595f85de599493997975742c38fdbdf439561c4d118c24f05252253c8fa7d2c"
  },
  "kernelspec": {
   "display_name": "Python 3.8.10 64-bit (windows store)",
   "language": "python",
   "name": "python3"
  },
  "language_info": {
   "codemirror_mode": {
    "name": "ipython",
    "version": 3
   },
   "file_extension": ".py",
   "mimetype": "text/x-python",
   "name": "python",
   "nbconvert_exporter": "python",
   "pygments_lexer": "ipython3",
   "version": "3.8.10"
  },
  "orig_nbformat": 4
 },
 "nbformat": 4,
 "nbformat_minor": 2
}
