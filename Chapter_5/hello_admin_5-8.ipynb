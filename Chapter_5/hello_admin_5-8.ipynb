{
 "cells": [
  {
   "cell_type": "code",
   "execution_count": 4,
   "metadata": {},
   "outputs": [
    {
     "name": "stdout",
     "output_type": "stream",
     "text": [
      "Hello KoolKid83, thank you for logging in again!\n",
      "Hello admin, would you like to see a status report?\n",
      "Hello chikin_nugget_slayer, thank you for logging in again!\n",
      "Hello x_X_noice_X_x, thank you for logging in again!\n",
      "Hello scooby-doo-LUVR, thank you for logging in again!\n"
     ]
    }
   ],
   "source": [
    "usernames = [\"KoolKid83\", \"admin\", \"chikin_nugget_slayer\", \"x_X_noice_X_x\", \"scooby-doo-LUVR\"]\n",
    "#usernames = []\n",
    "\n",
    "if usernames:\n",
    "    for name in usernames:\n",
    "        if name.lower() == 'admin':\n",
    "            print(\"Hello admin, would you like to see a status report?\")\n",
    "        else:\n",
    "            print(f\"Hello {name}, thank you for logging in again!\")\n",
    "else:\n",
    "    print(\"We need to find some users!\")"
   ]
  }
 ],
 "metadata": {
  "interpreter": {
   "hash": "e595f85de599493997975742c38fdbdf439561c4d118c24f05252253c8fa7d2c"
  },
  "kernelspec": {
   "display_name": "Python 3.8.10 64-bit (windows store)",
   "language": "python",
   "name": "python3"
  },
  "language_info": {
   "codemirror_mode": {
    "name": "ipython",
    "version": 3
   },
   "file_extension": ".py",
   "mimetype": "text/x-python",
   "name": "python",
   "nbconvert_exporter": "python",
   "pygments_lexer": "ipython3",
   "version": "3.8.10"
  },
  "orig_nbformat": 4
 },
 "nbformat": 4,
 "nbformat_minor": 2
}
