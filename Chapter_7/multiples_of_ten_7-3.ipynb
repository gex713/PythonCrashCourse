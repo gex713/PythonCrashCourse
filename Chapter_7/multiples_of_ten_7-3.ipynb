{
 "cells": [
  {
   "cell_type": "code",
   "execution_count": 2,
   "metadata": {},
   "outputs": [
    {
     "name": "stdout",
     "output_type": "stream",
     "text": [
      "The number 30000 is divisible by 10!\n"
     ]
    }
   ],
   "source": [
    "num = int(input(\"Please provide a number and I will tell you if it is a multiple of 10: \"))\n",
    "if num % 10 == 0:\n",
    "    print(f\"The number {num} is divisible by 10!\")\n",
    "else: \n",
    "    print(f\"The number {num} is not divisible by 10 :(\")"
   ]
  }
 ],
 "metadata": {
  "interpreter": {
   "hash": "e595f85de599493997975742c38fdbdf439561c4d118c24f05252253c8fa7d2c"
  },
  "kernelspec": {
   "display_name": "Python 3.8.10 64-bit (windows store)",
   "language": "python",
   "name": "python3"
  },
  "language_info": {
   "codemirror_mode": {
    "name": "ipython",
    "version": 3
   },
   "file_extension": ".py",
   "mimetype": "text/x-python",
   "name": "python",
   "nbconvert_exporter": "python",
   "pygments_lexer": "ipython3",
   "version": "3.8.10"
  },
  "orig_nbformat": 4
 },
 "nbformat": 4,
 "nbformat_minor": 2
}
