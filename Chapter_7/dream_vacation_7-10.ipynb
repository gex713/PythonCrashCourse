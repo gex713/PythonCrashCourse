{
 "cells": [
  {
   "cell_type": "code",
   "execution_count": 1,
   "metadata": {},
   "outputs": [
    {
     "name": "stdout",
     "output_type": "stream",
     "text": [
      "\n",
      "----- Dream Vacations -----\n",
      "Houston's dream vacation is in/at las vegas!\n",
      "angela's dream vacation is in/at japan!\n",
      "bob's dream vacation is in/at china!\n"
     ]
    }
   ],
   "source": [
    "responses = {}\n",
    "\n",
    "poll_active = True\n",
    "\n",
    "while poll_active:\n",
    "    name = input(\"Please tell me your name so we can log your dream vacation!\")\n",
    "    response = input(f\"{name.title()}, where is your dream vacation?\")\n",
    "\n",
    "    responses[name] = response\n",
    "\n",
    "    repeat = input(\"Would anyone else like to tell us their dream location? (yes/no)\")\n",
    "    if repeat == 'no':\n",
    "        poll_active = False\n",
    "\n",
    "print(\"\\n----- Dream Vacations -----\")\n",
    "\n",
    "for name, vacay in responses.items():\n",
    "    print(f\"{name.title()}'s dream vacation is in/at {vacay.title()}!\")\n"
   ]
  }
 ],
 "metadata": {
  "interpreter": {
   "hash": "e595f85de599493997975742c38fdbdf439561c4d118c24f05252253c8fa7d2c"
  },
  "kernelspec": {
   "display_name": "Python 3.8.10 64-bit (windows store)",
   "language": "python",
   "name": "python3"
  },
  "language_info": {
   "codemirror_mode": {
    "name": "ipython",
    "version": 3
   },
   "file_extension": ".py",
   "mimetype": "text/x-python",
   "name": "python",
   "nbconvert_exporter": "python",
   "pygments_lexer": "ipython3",
   "version": "3.8.10"
  },
  "orig_nbformat": 4
 },
 "nbformat": 4,
 "nbformat_minor": 2
}
