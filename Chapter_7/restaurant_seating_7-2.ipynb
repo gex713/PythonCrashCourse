{
 "cells": [
  {
   "cell_type": "code",
   "execution_count": 3,
   "metadata": {},
   "outputs": [
    {
     "name": "stdout",
     "output_type": "stream",
     "text": [
      "We have a table available for you right now. Please follow me!\n"
     ]
    }
   ],
   "source": [
    "num_guests = int(input(\"How many guests will we be serving today? \"))\n",
    "if num_guests > 8:\n",
    "    print(\"You will need to wait just a moment for us to get you a table. Thank you for being patient!\")\n",
    "else: \n",
    "    print(\"We have a table available for you right now. Please follow me!\")"
   ]
  }
 ],
 "metadata": {
  "interpreter": {
   "hash": "e595f85de599493997975742c38fdbdf439561c4d118c24f05252253c8fa7d2c"
  },
  "kernelspec": {
   "display_name": "Python 3.8.10 64-bit (windows store)",
   "language": "python",
   "name": "python3"
  },
  "language_info": {
   "codemirror_mode": {
    "name": "ipython",
    "version": 3
   },
   "file_extension": ".py",
   "mimetype": "text/x-python",
   "name": "python",
   "nbconvert_exporter": "python",
   "pygments_lexer": "ipython3",
   "version": "3.8.10"
  },
  "orig_nbformat": 4
 },
 "nbformat": 4,
 "nbformat_minor": 2
}
