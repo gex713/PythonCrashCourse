{
 "cells": [
  {
   "cell_type": "code",
   "execution_count": 1,
   "metadata": {},
   "outputs": [
    {
     "name": "stdout",
     "output_type": "stream",
     "text": [
      "I made your meatball marinara\n",
      "I made your italian\n",
      "I made your club\n",
      "I made your blt\n",
      "I made your chicken\n",
      "I made your club\n",
      "I made your grilled cheese\n",
      "I made your reuben\n",
      "Here are all the sandwiches that were made today:\n",
      "\tmeatball marinara\n",
      "\titalian\n",
      "\tclub\n",
      "\tblt\n",
      "\tchicken\n",
      "\tclub\n",
      "\tgrilled cheese\n",
      "\treuben\n"
     ]
    }
   ],
   "source": [
    "sandwich_orders = ['reuben', 'grilled cheese', 'club', 'chicken', 'blt', 'club', 'italian', 'meatball marinara']\n",
    "finished_sandwiches = []\n",
    "\n",
    "while sandwich_orders:\n",
    "    sandwich = sandwich_orders.pop()\n",
    "    print(f'I made your {sandwich}')\n",
    "    finished_sandwiches.append(sandwich)\n",
    "    \n",
    "print(\"Here are all the sandwiches that were made today:\")\n",
    "for fs in finished_sandwiches:\n",
    "    print(f'\\t{fs}')"
   ]
  },
  {
   "cell_type": "code",
   "execution_count": 2,
   "metadata": {},
   "outputs": [
    {
     "name": "stdout",
     "output_type": "stream",
     "text": [
      "I am sorry, but we have run out of pastrami.\n",
      "I made your meatball marinara\n",
      "I made your italian\n",
      "I made your club\n",
      "I made your blt\n",
      "I made your chicken\n",
      "I made your club\n",
      "I made your grilled cheese\n",
      "I made your reuben\n",
      "Here are all the sandwiches that were made today:\n",
      "\tmeatball marinara\n",
      "\titalian\n",
      "\tclub\n",
      "\tblt\n",
      "\tchicken\n",
      "\tclub\n",
      "\tgrilled cheese\n",
      "\treuben\n"
     ]
    },
    {
     "ename": "",
     "evalue": "",
     "output_type": "error",
     "traceback": [
      "\u001b[1;31mThe Kernel crashed while executing code in the the current cell or a previous cell. Please review the code in the cell(s) to identify a possible cause of the failure. Click <a href='https://aka.ms/vscodeJupyterKernelCrash'>here</a> for more info. View Jupyter <a href='command:jupyter.viewOutput'>log</a> for further details."
     ]
    }
   ],
   "source": [
    "#7-9 No Pastrami!\n",
    "\n",
    "sandwich_orders = ['reuben', 'pastrami', 'grilled cheese', 'club', 'pastrami', 'chicken', 'blt', 'club', 'pastrami', 'italian', 'meatball marinara']\n",
    "finished_sandwiches = []\n",
    "\n",
    "out_of = 'pastrami' # This is easier to change if we run out of other ingredients later\n",
    "\n",
    "print(f'I am sorry, but we have run out of {out_of}.')\n",
    "\n",
    "while out_of in sandwich_orders:\n",
    "    sandwich_orders.remove(out_of)\n",
    "\n",
    "while sandwich_orders:\n",
    "    sandwich = sandwich_orders.pop()\n",
    "    print(f'I made your {sandwich}')\n",
    "    finished_sandwiches.append(sandwich)\n",
    "    \n",
    "print(\"Here are all the sandwiches that were made today:\")\n",
    "for fs in finished_sandwiches:\n",
    "    print(f'\\t{fs}')"
   ]
  }
 ],
 "metadata": {
  "interpreter": {
   "hash": "e595f85de599493997975742c38fdbdf439561c4d118c24f05252253c8fa7d2c"
  },
  "kernelspec": {
   "display_name": "Python 3.8.10 64-bit (windows store)",
   "language": "python",
   "name": "python3"
  },
  "language_info": {
   "codemirror_mode": {
    "name": "ipython",
    "version": 3
   },
   "file_extension": ".py",
   "mimetype": "text/x-python",
   "name": "python",
   "nbconvert_exporter": "python",
   "pygments_lexer": "ipython3",
   "version": "3.8.10"
  },
  "orig_nbformat": 4
 },
 "nbformat": 4,
 "nbformat_minor": 2
}
