{
 "cells": [
  {
   "cell_type": "code",
   "execution_count": 2,
   "metadata": {},
   "outputs": [
    {
     "name": "stdout",
     "output_type": "stream",
     "text": [
      "Let me see if I can find you a tesla\n"
     ]
    }
   ],
   "source": [
    "# I am unsure how this works in other editors, but input works fine in VS Code \n",
    "\n",
    "car_type = input(\"What kind of car would you like to rent? \")\n",
    "print(f\"Let me see if I can find you a {car_type}\")"
   ]
  }
 ],
 "metadata": {
  "interpreter": {
   "hash": "e595f85de599493997975742c38fdbdf439561c4d118c24f05252253c8fa7d2c"
  },
  "kernelspec": {
   "display_name": "Python 3.8.10 64-bit (windows store)",
   "language": "python",
   "name": "python3"
  },
  "language_info": {
   "codemirror_mode": {
    "name": "ipython",
    "version": 3
   },
   "file_extension": ".py",
   "mimetype": "text/x-python",
   "name": "python",
   "nbconvert_exporter": "python",
   "pygments_lexer": "ipython3",
   "version": "3.8.10"
  },
  "orig_nbformat": 4
 },
 "nbformat": 4,
 "nbformat_minor": 2
}
