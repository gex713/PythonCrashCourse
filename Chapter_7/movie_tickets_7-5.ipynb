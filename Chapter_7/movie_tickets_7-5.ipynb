{
 "cells": [
  {
   "cell_type": "code",
   "execution_count": 5,
   "metadata": {},
   "outputs": [
    {
     "name": "stdout",
     "output_type": "stream",
     "text": [
      "The ticket price for adults (15) is $15.\n"
     ]
    }
   ],
   "source": [
    "message = \"Please enter the age of attendees so that they can be charged appropriately.\"\n",
    "message += \"Enter 'stop' when you have no more people in your group.\"\n",
    "\n",
    "age = ''\n",
    "\n",
    "while age.lower() != 'stop':\n",
    "    age = input(message)\n",
    "    if age.lower() == 'stop':\n",
    "        break\n",
    "    age_as_int = int(age)\n",
    "    if age_as_int < 3:\n",
    "        print(\"Toddlers are free!\")\n",
    "    elif age_as_int <= 12:\n",
    "        print(f\"The ticket price for children ({age_as_int}) is $10.\")\n",
    "    elif age_as_int > 12:\n",
    "        print(f\"The ticket price for adults ({age_as_int}) is $15.\")"
   ]
  }
 ],
 "metadata": {
  "interpreter": {
   "hash": "e595f85de599493997975742c38fdbdf439561c4d118c24f05252253c8fa7d2c"
  },
  "kernelspec": {
   "display_name": "Python 3.8.10 64-bit (windows store)",
   "language": "python",
   "name": "python3"
  },
  "language_info": {
   "codemirror_mode": {
    "name": "ipython",
    "version": 3
   },
   "file_extension": ".py",
   "mimetype": "text/x-python",
   "name": "python",
   "nbconvert_exporter": "python",
   "pygments_lexer": "ipython3",
   "version": "3.8.10"
  },
  "orig_nbformat": 4
 },
 "nbformat": 4,
 "nbformat_minor": 2
}
