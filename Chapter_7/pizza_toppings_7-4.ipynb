{
 "cells": [
  {
   "cell_type": "code",
   "execution_count": 13,
   "metadata": {},
   "outputs": [
    {
     "name": "stdout",
     "output_type": "stream",
     "text": [
      "Adding banana to your pizza...\n",
      "Adding cow to your pizza...\n",
      "Adding meat to your pizza...\n",
      "Adding gravel to your pizza...\n",
      "Adding house paint to your pizza...\n",
      "Adding  walrus teeth to your pizza...\n",
      "Adding candle wax with melted bugs to your pizza...\n",
      "Adding freezer paste to your pizza...\n",
      "Adding paint chips to your pizza...\n"
     ]
    }
   ],
   "source": [
    "message = \"Please start listing the toppings you would like on your pizza.\"\n",
    "message += \"\\nEnter the word 'quit' to quit adding toppings.\"\n",
    "\n",
    "topping = \"\"\n",
    "\n",
    "while topping != 'quit':\n",
    "    topping = input(message)\n",
    "    if topping != 'quit':\n",
    "        print(f\"Adding {topping} to your pizza...\")"
   ]
  }
 ],
 "metadata": {
  "interpreter": {
   "hash": "e595f85de599493997975742c38fdbdf439561c4d118c24f05252253c8fa7d2c"
  },
  "kernelspec": {
   "display_name": "Python 3.8.10 64-bit (windows store)",
   "language": "python",
   "name": "python3"
  },
  "language_info": {
   "codemirror_mode": {
    "name": "ipython",
    "version": 3
   },
   "file_extension": ".py",
   "mimetype": "text/x-python",
   "name": "python",
   "nbconvert_exporter": "python",
   "pygments_lexer": "ipython3",
   "version": "3.8.10"
  },
  "orig_nbformat": 4
 },
 "nbformat": 4,
 "nbformat_minor": 2
}
