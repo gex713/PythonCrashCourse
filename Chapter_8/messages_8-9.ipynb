{
 "cells": [
  {
   "cell_type": "code",
   "execution_count": 1,
   "metadata": {},
   "outputs": [],
   "source": [
    "def show_messages(messages):\n",
    "    for message in messages:\n",
    "        print(message)"
   ]
  },
  {
   "cell_type": "code",
   "execution_count": 2,
   "metadata": {},
   "outputs": [
    {
     "name": "stdout",
     "output_type": "stream",
     "text": [
      "Hello, friend!\n",
      "Have you seen my dog?\n",
      "What's the deal with seagulls?\n"
     ]
    }
   ],
   "source": [
    "messages = [\"Hello, friend!\", \"Have you seen my dog?\", \"What's the deal with seagulls?\"]\n",
    "\n",
    "show_messages(messages)"
   ]
  },
  {
   "cell_type": "code",
   "execution_count": 3,
   "metadata": {},
   "outputs": [],
   "source": [
    "# 8-10 Sending Messages\n",
    "def send_messages(messages, sent_messages):\n",
    "    while messages:\n",
    "        current_message = messages.pop()\n",
    "        print(current_message)\n",
    "        sent_messages.append(current_message)\n"
   ]
  },
  {
   "cell_type": "code",
   "execution_count": 6,
   "metadata": {},
   "outputs": [
    {
     "name": "stdout",
     "output_type": "stream",
     "text": [
      "What's the deal with seagulls?\n",
      "Have you seen my dog?\n",
      "Hello, friend!\n",
      "messages is: []\n",
      "sent_messages is: [\"What's the deal with seagulls?\", 'Have you seen my dog?', 'Hello, friend!']\n",
      "\n",
      "\n",
      "ARCHIVING MESSAGES\n",
      "\n",
      "What's the deal with seagulls?\n",
      "Have you seen my dog?\n",
      "Hello, friend!\n",
      "messages is: ['Hello, friend!', 'Have you seen my dog?', \"What's the deal with seagulls?\"]\n",
      "sent_messages is: [\"What's the deal with seagulls?\", 'Have you seen my dog?', 'Hello, friend!']\n"
     ]
    }
   ],
   "source": [
    "sent_messages = []\n",
    "messages = [\"Hello, friend!\", \"Have you seen my dog?\", \"What's the deal with seagulls?\"]\n",
    "\n",
    "send_messages(messages, sent_messages)\n",
    "\n",
    "print(f\"messages is: {messages}\")\n",
    "print(f\"sent_messages is: {sent_messages}\")\n",
    "\n",
    "# 8-11 Archive Messages\n",
    "print(\"\\n\\nARCHIVING MESSAGES\\n\")\n",
    "\n",
    "sent_messages = []\n",
    "messages = [\"Hello, friend!\", \"Have you seen my dog?\", \"What's the deal with seagulls?\"]\n",
    "\n",
    "send_messages(messages[:], sent_messages)\n",
    "\n",
    "print(f\"messages is: {messages}\")\n",
    "print(f\"sent_messages is: {sent_messages}\")"
   ]
  }
 ],
 "metadata": {
  "kernelspec": {
   "display_name": "Python 3.8.10 64-bit (windows store)",
   "language": "python",
   "name": "python3"
  },
  "language_info": {
   "codemirror_mode": {
    "name": "ipython",
    "version": 3
   },
   "file_extension": ".py",
   "mimetype": "text/x-python",
   "name": "python",
   "nbconvert_exporter": "python",
   "pygments_lexer": "ipython3",
   "version": "3.8.10"
  },
  "orig_nbformat": 4,
  "vscode": {
   "interpreter": {
    "hash": "e595f85de599493997975742c38fdbdf439561c4d118c24f05252253c8fa7d2c"
   }
  }
 },
 "nbformat": 4,
 "nbformat_minor": 2
}
