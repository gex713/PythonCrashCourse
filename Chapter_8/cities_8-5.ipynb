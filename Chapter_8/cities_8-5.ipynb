{
 "cells": [
  {
   "cell_type": "code",
   "execution_count": 2,
   "metadata": {},
   "outputs": [],
   "source": [
    "def describe_city(city_name, country=\"USA\"):\n",
    "    \"\"\"Prints a simple message about the location of the city provided\"\"\"\n",
    "    # Yes, I could do some logic to fix the \"USA\" not being capitalized but thats not the spirit of the exercise.\n",
    "    print(f\"{city_name.title()} is in {country.title()}.\")"
   ]
  },
  {
   "cell_type": "code",
   "execution_count": 3,
   "metadata": {},
   "outputs": [
    {
     "name": "stdout",
     "output_type": "stream",
     "text": [
      "New York is in Usa.\n",
      "Los Angeles is in Usa.\n",
      "Paris is in France.\n"
     ]
    }
   ],
   "source": [
    "describe_city(\"new york\")\n",
    "describe_city(\"los angeles\")\n",
    "describe_city(\"paris\", \"france\")"
   ]
  }
 ],
 "metadata": {
  "kernelspec": {
   "display_name": "Python 3.8.10 64-bit (windows store)",
   "language": "python",
   "name": "python3"
  },
  "language_info": {
   "codemirror_mode": {
    "name": "ipython",
    "version": 3
   },
   "file_extension": ".py",
   "mimetype": "text/x-python",
   "name": "python",
   "nbconvert_exporter": "python",
   "pygments_lexer": "ipython3",
   "version": "3.8.10"
  },
  "orig_nbformat": 4,
  "vscode": {
   "interpreter": {
    "hash": "e595f85de599493997975742c38fdbdf439561c4d118c24f05252253c8fa7d2c"
   }
  }
 },
 "nbformat": 4,
 "nbformat_minor": 2
}
