{
 "cells": [
  {
   "cell_type": "code",
   "execution_count": 1,
   "metadata": {},
   "outputs": [],
   "source": [
    "def make_album(artist, album_title, num_songs=None):\n",
    "    \"\"\"Creates a dictionary of album information.\"\"\"\n",
    "    album = {'artist': artist, 'album_title': album_title}\n",
    "    if num_songs:\n",
    "        album['num_songs'] = num_songs\n",
    "    return album"
   ]
  },
  {
   "cell_type": "code",
   "execution_count": 3,
   "metadata": {},
   "outputs": [
    {
     "name": "stdout",
     "output_type": "stream",
     "text": [
      "{'artist': 'green day', 'album_title': 'dookie'}\n",
      "{'artist': 'foo fighters', 'album_title': 'the colour and the shape'}\n",
      "{'artist': 'linkin park', 'album_title': 'hybrid theory'}\n",
      "{'artist': 'train', 'album_title': 'drops of jupiter', 'num_songs': 11}\n"
     ]
    }
   ],
   "source": [
    "first_album = make_album(\"green day\", \"dookie\")\n",
    "second_album = make_album(\"foo fighters\", \"the colour and the shape\")\n",
    "third_album = make_album(\"linkin park\", \"hybrid theory\")\n",
    "\n",
    "print(first_album)\n",
    "print(second_album)\n",
    "print(third_album)\n",
    "\n",
    "fourth_album = make_album(\"train\", \"drops of jupiter\", 11)\n",
    "print(fourth_album)"
   ]
  },
  {
   "cell_type": "code",
   "execution_count": 10,
   "metadata": {},
   "outputs": [
    {
     "name": "stdout",
     "output_type": "stream",
     "text": [
      "Please enter album information.\n",
      "(Enter 'q' at any time to quit)\n",
      "{'artist': 'green day', 'album_title': 'warning'}\n",
      "Please enter album information.\n",
      "(Enter 'q' at any time to quit)\n",
      "{'artist': 'green day', 'album_title': 'american idiot', 'num_songs': '18'}\n",
      "Please enter album information.\n",
      "(Enter 'q' at any time to quit)\n"
     ]
    }
   ],
   "source": [
    "# User Album - 8-8\n",
    "while True:\n",
    "    num_songs = None\n",
    "    \n",
    "    print(\"Please enter album information.\")\n",
    "    print(\"(Enter 'q' at any time to quit)\")\n",
    "\n",
    "    artist = input(\"Artist name: \")\n",
    "    if artist == 'q':\n",
    "        break\n",
    "\n",
    "    album_name = input(\"Album title: \")\n",
    "    if album_name == 'q':\n",
    "        break\n",
    "\n",
    "    num_songs = input(\"How many songs are on the album? (enter any non-digit character to skip, 'q' will still quit the program): \")\n",
    "    if num_songs == 'q':\n",
    "        break\n",
    "    \n",
    "    if num_songs.isdigit():\n",
    "        full_album = make_album(artist, album_name, num_songs)\n",
    "    else:\n",
    "        full_album = make_album(artist, album_name)\n",
    "\n",
    "    print(full_album)\n",
    "        \n"
   ]
  }
 ],
 "metadata": {
  "kernelspec": {
   "display_name": "Python 3.8.10 64-bit (windows store)",
   "language": "python",
   "name": "python3"
  },
  "language_info": {
   "codemirror_mode": {
    "name": "ipython",
    "version": 3
   },
   "file_extension": ".py",
   "mimetype": "text/x-python",
   "name": "python",
   "nbconvert_exporter": "python",
   "pygments_lexer": "ipython3",
   "version": "3.8.10"
  },
  "orig_nbformat": 4,
  "vscode": {
   "interpreter": {
    "hash": "e595f85de599493997975742c38fdbdf439561c4d118c24f05252253c8fa7d2c"
   }
  }
 },
 "nbformat": 4,
 "nbformat_minor": 2
}
