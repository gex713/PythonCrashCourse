{
 "cells": [
  {
   "cell_type": "code",
   "execution_count": 1,
   "metadata": {},
   "outputs": [],
   "source": [
    "# build_profile function as copied from the book, per instructions\n",
    "def build_profile(first, last, **user_info):\n",
    "    \"\"\"Build a dictionary containing everything we knkow about a user.\"\"\"\n",
    "    user_info['first_name'] = first\n",
    "    user_info['last_name'] = last\n",
    "    return user_info"
   ]
  },
  {
   "cell_type": "code",
   "execution_count": 5,
   "metadata": {},
   "outputs": [
    {
     "name": "stdout",
     "output_type": "stream",
     "text": [
      "{'location': 'knoxville', 'title': 'developer', 'is_praying_mantis': 'no', 'first_name': 'houston', 'last_name': 'miller'}\n"
     ]
    }
   ],
   "source": [
    "user_profile = build_profile('houston', 'miller', \n",
    "                             location='knoxville', \n",
    "                             title='developer',\n",
    "                             is_praying_mantis = 'no')\n",
    "\n",
    "print(user_profile)"
   ]
  }
 ],
 "metadata": {
  "kernelspec": {
   "display_name": "Python 3.8.10 64-bit (windows store)",
   "language": "python",
   "name": "python3"
  },
  "language_info": {
   "codemirror_mode": {
    "name": "ipython",
    "version": 3
   },
   "file_extension": ".py",
   "mimetype": "text/x-python",
   "name": "python",
   "nbconvert_exporter": "python",
   "pygments_lexer": "ipython3",
   "version": "3.8.10"
  },
  "orig_nbformat": 4,
  "vscode": {
   "interpreter": {
    "hash": "e595f85de599493997975742c38fdbdf439561c4d118c24f05252253c8fa7d2c"
   }
  }
 },
 "nbformat": 4,
 "nbformat_minor": 2
}
