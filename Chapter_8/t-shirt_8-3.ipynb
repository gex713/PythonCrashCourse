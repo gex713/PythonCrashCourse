{
 "cells": [
  {
   "cell_type": "code",
   "execution_count": 7,
   "metadata": {},
   "outputs": [],
   "source": [
    "def make_shirt(size='large', text='I love Python'):\n",
    "    \"\"\"Prints a confirmation of the requested shirt size and text\"\"\"\n",
    "    print(f\"You ordered a shirt sized {size} with a message saying \\'{text}\\'.\")"
   ]
  },
  {
   "cell_type": "code",
   "execution_count": 8,
   "metadata": {},
   "outputs": [
    {
     "name": "stdout",
     "output_type": "stream",
     "text": [
      "You ordered a shirt sized medium with a message saying 'witty phrase here!'.\n",
      "You ordered a shirt sized large with a message saying 'made you look!'.\n"
     ]
    }
   ],
   "source": [
    "make_shirt(\"medium\", \"witty phrase here!\")\n",
    "\n",
    "make_shirt(text=\"made you look!\", size=\"large\")"
   ]
  },
  {
   "cell_type": "code",
   "execution_count": 9,
   "metadata": {},
   "outputs": [
    {
     "name": "stdout",
     "output_type": "stream",
     "text": [
      "You ordered a shirt sized large with a message saying 'I love Python!'.\n",
      "You ordered a shirt sized medium with a message saying 'I love Python!'.\n",
      "You ordered a shirt sized small with a message saying 'cool kid'.\n"
     ]
    }
   ],
   "source": [
    "# Large Shirts 8-4\n",
    "make_shirt() # Large shirt with default message\n",
    "make_shirt(\"medium\") # Medium shirt with default message\n",
    "make_shirt(\"small\", \"cool kid\")\n"
   ]
  }
 ],
 "metadata": {
  "kernelspec": {
   "display_name": "Python 3.8.10 64-bit (windows store)",
   "language": "python",
   "name": "python3"
  },
  "language_info": {
   "codemirror_mode": {
    "name": "ipython",
    "version": 3
   },
   "file_extension": ".py",
   "mimetype": "text/x-python",
   "name": "python",
   "nbconvert_exporter": "python",
   "pygments_lexer": "ipython3",
   "version": "3.8.10"
  },
  "orig_nbformat": 4,
  "vscode": {
   "interpreter": {
    "hash": "e595f85de599493997975742c38fdbdf439561c4d118c24f05252253c8fa7d2c"
   }
  }
 },
 "nbformat": 4,
 "nbformat_minor": 2
}
