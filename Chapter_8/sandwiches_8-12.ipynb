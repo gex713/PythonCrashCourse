{
 "cells": [
  {
   "cell_type": "code",
   "execution_count": 3,
   "metadata": {},
   "outputs": [],
   "source": [
    "def make_sandwich(*ingredients):\n",
    "    \"\"\"Prints a list of sandwhich ingredients.\"\"\"\n",
    "    print('Making a sandwich with the following ingredients:')\n",
    "    for ingredient in ingredients:\n",
    "        print(f\" - {ingredient}\")"
   ]
  },
  {
   "cell_type": "code",
   "execution_count": 5,
   "metadata": {},
   "outputs": [
    {
     "name": "stdout",
     "output_type": "stream",
     "text": [
      "Making a sandwich with the following ingredients:\n",
      " - ham\n",
      "Making a sandwich with the following ingredients:\n",
      " - bacon\n",
      " - lettuce\n",
      " - tomato\n",
      "Making a sandwich with the following ingredients:\n",
      " - ham\n",
      " - capicola\n",
      " - salami\n",
      " - provolone\n",
      " - lettuce\n",
      " - tomato\n",
      " - pickles\n",
      " - oil\n",
      " - vinegar\n",
      "\n",
      "\n",
      "Making a sandwich with the following ingredients:\n"
     ]
    }
   ],
   "source": [
    "make_sandwich('ham')\n",
    "make_sandwich('bacon', 'lettuce', 'tomato')\n",
    "make_sandwich('ham', 'capicola', 'salami', 'provolone', 'lettuce', 'tomato', 'pickles', 'oil', 'vinegar')\n",
    "\n",
    "# I am curious what happens when we pass no arguments\n",
    "print('\\n')\n",
    "make_sandwich()"
   ]
  },
  {
   "cell_type": "code",
   "execution_count": null,
   "metadata": {},
   "outputs": [],
   "source": []
  }
 ],
 "metadata": {
  "kernelspec": {
   "display_name": "Python 3.8.10 64-bit (windows store)",
   "language": "python",
   "name": "python3"
  },
  "language_info": {
   "codemirror_mode": {
    "name": "ipython",
    "version": 3
   },
   "file_extension": ".py",
   "mimetype": "text/x-python",
   "name": "python",
   "nbconvert_exporter": "python",
   "pygments_lexer": "ipython3",
   "version": "3.8.10"
  },
  "orig_nbformat": 4,
  "vscode": {
   "interpreter": {
    "hash": "e595f85de599493997975742c38fdbdf439561c4d118c24f05252253c8fa7d2c"
   }
  }
 },
 "nbformat": 4,
 "nbformat_minor": 2
}
