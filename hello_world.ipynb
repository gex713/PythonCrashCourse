{
 "cells": [
  {
   "cell_type": "code",
   "execution_count": 6,
   "metadata": {},
   "outputs": [
    {
     "name": "stdout",
     "output_type": "stream",
     "text": [
      "Hello python world!\n"
     ]
    },
    {
     "ename": "NameError",
     "evalue": "name 'mesage' is not defined",
     "output_type": "error",
     "traceback": [
      "\u001b[1;31m---------------------------------------------------------------------------\u001b[0m",
      "\u001b[1;31mNameError\u001b[0m                                 Traceback (most recent call last)",
      "\u001b[1;32mc:\\Users\\gex71\\Documents\\repos\\python_work\\hello_world.ipynb Cell 1'\u001b[0m in \u001b[0;36m<cell line: 5>\u001b[1;34m()\u001b[0m\n\u001b[0;32m      <a href='vscode-notebook-cell:/c%3A/Users/gex71/Documents/repos/python_work/hello_world.ipynb#ch0000000?line=1'>2</a>\u001b[0m \u001b[39mprint\u001b[39m(message)\n\u001b[0;32m      <a href='vscode-notebook-cell:/c%3A/Users/gex71/Documents/repos/python_work/hello_world.ipynb#ch0000000?line=3'>4</a>\u001b[0m message \u001b[39m=\u001b[39m \u001b[39m\"\u001b[39m\u001b[39mHello python crash course world!!\u001b[39m\u001b[39m\"\u001b[39m\n\u001b[1;32m----> <a href='vscode-notebook-cell:/c%3A/Users/gex71/Documents/repos/python_work/hello_world.ipynb#ch0000000?line=4'>5</a>\u001b[0m \u001b[39mprint\u001b[39m(mesage)\n",
      "\u001b[1;31mNameError\u001b[0m: name 'mesage' is not defined"
     ]
    }
   ],
   "source": [
    "message = \"Hello python world!\"\n",
    "print(message)\n",
    "\n",
    "message = \"Hello python crash course world!!\"\n",
    "print(mesage)"
   ]
  }
 ],
 "metadata": {
  "interpreter": {
   "hash": "3aa81d3e10d08a31fb3625dae1e2a0f4ee71d5f6eaa838bd13ea13a30a226ab5"
  },
  "kernelspec": {
   "display_name": "Python 3.8.10 64-bit (windows store)",
   "language": "python",
   "name": "python3"
  },
  "language_info": {
   "codemirror_mode": {
    "name": "ipython",
    "version": 3
   },
   "file_extension": ".py",
   "mimetype": "text/x-python",
   "name": "python",
   "nbconvert_exporter": "python",
   "pygments_lexer": "ipython3",
   "version": "3.8.10"
  },
  "orig_nbformat": 4
 },
 "nbformat": 4,
 "nbformat_minor": 2
}
