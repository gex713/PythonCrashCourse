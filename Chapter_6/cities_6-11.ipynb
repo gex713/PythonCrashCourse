{
 "cells": [
  {
   "cell_type": "code",
   "execution_count": 3,
   "metadata": {},
   "outputs": [
    {
     "name": "stdout",
     "output_type": "stream",
     "text": [
      "Nashville is in the USA and has an approximate population of 693000. One interesting fact about Nashville is: Country music capital of the world!\n",
      "Knoxville is in the USA and has an approximate population of 187000. One interesting fact about Knoxville is: Hosted the World's Fair once.\n",
      "Chattanooga is in the USA and has an approximate population of 181000. One interesting fact about Chattanooga is: Choo Choo!\n",
      "Bangkok is in Thailand and has an approximate population of 10700000. One interesting fact about Bangkok is: has a mean annual rainfall of around 60 inches\n"
     ]
    }
   ],
   "source": [
    "cities = {\n",
    "    'nashville': {\n",
    "        'country': 'usa',\n",
    "        'population': 693000,\n",
    "        'fact': 'Country music capital of the world!'\n",
    "    },\n",
    "    'knoxville': {\n",
    "        'country': 'usa',\n",
    "        'population': 187000,\n",
    "        'fact': \"Hosted the World's Fair once.\"\n",
    "    },\n",
    "    'chattanooga': {\n",
    "        'country': 'usa',\n",
    "        'population': 181000,\n",
    "        'fact': 'Choo Choo!'\n",
    "    },\n",
    "    'bangkok': {\n",
    "        'country': 'thailand',\n",
    "        'population': 10700000,\n",
    "        'fact': 'has a mean annual rainfall of around 60 inches'\n",
    "    }\n",
    "}\n",
    "\n",
    "for city, info in cities.items():\n",
    "    country = info['country'].title()\n",
    "    if info['country'].lower() == 'usa':\n",
    "        country = 'the USA'\n",
    "        \n",
    "    print(f\"{city.title()} is in {country} and has an approximate population of {info['population']}. \"\n",
    "        f\"One interesting fact about {city.title()} is: {info['fact']}\")"
   ]
  }
 ],
 "metadata": {
  "interpreter": {
   "hash": "e595f85de599493997975742c38fdbdf439561c4d118c24f05252253c8fa7d2c"
  },
  "kernelspec": {
   "display_name": "Python 3.8.10 64-bit (windows store)",
   "language": "python",
   "name": "python3"
  },
  "language_info": {
   "codemirror_mode": {
    "name": "ipython",
    "version": 3
   },
   "file_extension": ".py",
   "mimetype": "text/x-python",
   "name": "python",
   "nbconvert_exporter": "python",
   "pygments_lexer": "ipython3",
   "version": "3.8.10"
  },
  "orig_nbformat": 4
 },
 "nbformat": 4,
 "nbformat_minor": 2
}
