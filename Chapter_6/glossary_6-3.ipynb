{
 "cells": [
  {
   "cell_type": "code",
   "execution_count": 2,
   "metadata": {},
   "outputs": [
    {
     "name": "stdout",
     "output_type": "stream",
     "text": [
      "if: Checks to see if a statement resolves to True or False.\n",
      "and: Used to combine separate truth tests. Resolves True when all conditions are true.\n",
      "or: Used to combine separate truth tests. Resolves True when any of the conditions are true.\n",
      "list: A collection of data. Can be of any type inherent in Python.\n",
      "comment: A statement in the code that is not executed as code. It is only for information.\n",
      "\n"
     ]
    }
   ],
   "source": [
    "glossary = {\n",
    "    'if': 'Checks to see if a statement resolves to True or False.',\n",
    "    'and': 'Used to combine separate truth tests. Resolves True when all conditions are true.',\n",
    "    'or': 'Used to combine separate truth tests. Resolves True when any of the conditions are true.',\n",
    "    'list': 'A collection of data. Can be of any type inherent in Python.',\n",
    "    'comment': 'A statement in the code that is not executed as code. It is only for information.',\n",
    "}\n",
    "\n",
    "print(f\"if: {glossary['if']}\\nand: {glossary['and']}\\nor: {glossary['or']}\\nlist: {glossary['list']}\\ncomment: {glossary['comment']}\\n\")"
   ]
  }
 ],
 "metadata": {
  "interpreter": {
   "hash": "e595f85de599493997975742c38fdbdf439561c4d118c24f05252253c8fa7d2c"
  },
  "kernelspec": {
   "display_name": "Python 3.8.10 64-bit (windows store)",
   "language": "python",
   "name": "python3"
  },
  "language_info": {
   "codemirror_mode": {
    "name": "ipython",
    "version": 3
   },
   "file_extension": ".py",
   "mimetype": "text/x-python",
   "name": "python",
   "nbconvert_exporter": "python",
   "pygments_lexer": "ipython3",
   "version": "3.8.10"
  },
  "orig_nbformat": 4
 },
 "nbformat": 4,
 "nbformat_minor": 2
}
