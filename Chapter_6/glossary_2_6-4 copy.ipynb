{
 "cells": [
  {
   "cell_type": "code",
   "execution_count": 7,
   "metadata": {},
   "outputs": [
    {
     "name": "stdout",
     "output_type": "stream",
     "text": [
      "if: Checks to see if a statement resolves to True or False.\n",
      "and: Used to combine separate truth tests. Resolves True when all conditions are true.\n",
      "or: Used to combine separate truth tests. Resolves True when any of the conditions are true.\n",
      "list: A collection of data. Can be of any type inherent in Python.\n",
      "comment: A statement in the code that is not executed as code. It is only for information.\n",
      "for: A kind of loop used to iterate over a number of items in a list.\n",
      "dictionary: Similar to a list but is made of key/value pairs.\n",
      "else: Companion to if. Executes if no other conditions are met\n",
      "PEP: The standarization of formatting and styling for Python.\n",
      "slice: A way to break up a list by specifying the indexes you want access to.\n",
      "\n",
      "Sorted List by Key\n",
      "PEP: The standarization of formatting and styling for Python.\n",
      "and: Used to combine separate truth tests. Resolves True when all conditions are true.\n",
      "comment: A statement in the code that is not executed as code. It is only for information.\n",
      "dictionary: Similar to a list but is made of key/value pairs.\n",
      "else: Companion to if. Executes if no other conditions are met\n",
      "for: A kind of loop used to iterate over a number of items in a list.\n",
      "if: Checks to see if a statement resolves to True or False.\n",
      "list: A collection of data. Can be of any type inherent in Python.\n",
      "or: Used to combine separate truth tests. Resolves True when any of the conditions are true.\n",
      "slice: A way to break up a list by specifying the indexes you want access to.\n"
     ]
    }
   ],
   "source": [
    "glossary = {\n",
    "    'if': 'Checks to see if a statement resolves to True or False.',\n",
    "    'and': 'Used to combine separate truth tests. Resolves True when all conditions are true.',\n",
    "    'or': 'Used to combine separate truth tests. Resolves True when any of the conditions are true.',\n",
    "    'list': 'A collection of data. Can be of any type inherent in Python.',\n",
    "    'comment': 'A statement in the code that is not executed as code. It is only for information.',\n",
    "    'for': 'A kind of loop used to iterate over a number of items in a list.',\n",
    "    'dictionary': 'Similar to a list but is made of key/value pairs.',\n",
    "    'else': 'Companion to if. Executes if no other conditions are met',\n",
    "    'PEP': 'The standarization of formatting and styling for Python.',\n",
    "    'slice': 'A way to break up a list by specifying the indexes you want access to.'\n",
    "}\n",
    "\n",
    "for term in glossary.keys():\n",
    "    print(f\"{term}: {glossary[term]}\")\n",
    "\n",
    "print(\"\\nSorted List by Key\")\n",
    "for term in sorted(glossary.keys()):\n",
    "    print(f\"{term}: {glossary[term]}\")"
   ]
  }
 ],
 "metadata": {
  "interpreter": {
   "hash": "e595f85de599493997975742c38fdbdf439561c4d118c24f05252253c8fa7d2c"
  },
  "kernelspec": {
   "display_name": "Python 3.8.10 64-bit (windows store)",
   "language": "python",
   "name": "python3"
  },
  "language_info": {
   "codemirror_mode": {
    "name": "ipython",
    "version": 3
   },
   "file_extension": ".py",
   "mimetype": "text/x-python",
   "name": "python",
   "nbconvert_exporter": "python",
   "pygments_lexer": "ipython3",
   "version": "3.8.10"
  },
  "orig_nbformat": 4
 },
 "nbformat": 4,
 "nbformat_minor": 2
}
