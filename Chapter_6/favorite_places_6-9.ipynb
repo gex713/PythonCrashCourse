{
 "cells": [
  {
   "cell_type": "code",
   "execution_count": 1,
   "metadata": {},
   "outputs": [
    {
     "name": "stdout",
     "output_type": "stream",
     "text": [
      "Houston really likes these places:\n",
      "\tKnoxville\n",
      "\tChattanooga\n",
      "\tBoston\n",
      "Angela really likes these places:\n",
      "\tPensacola\n",
      "\tShelburne Falls\n",
      "India really likes these places:\n",
      "\tLitter Box\n"
     ]
    }
   ],
   "source": [
    "favorite_places = {\n",
    "    'houston': ['knoxville', 'chattanooga', 'boston'],\n",
    "    'angela': ['pensacola', 'shelburne falls'],\n",
    "    'india': ['litter box'],\n",
    "}\n",
    "\n",
    "for person, places in favorite_places.items():\n",
    "    print(f\"{person.title()} really likes these places:\")\n",
    "    for place in places:\n",
    "        print(f\"\\t{place.title()}\")\n"
   ]
  }
 ],
 "metadata": {
  "interpreter": {
   "hash": "e595f85de599493997975742c38fdbdf439561c4d118c24f05252253c8fa7d2c"
  },
  "kernelspec": {
   "display_name": "Python 3.8.10 64-bit (windows store)",
   "language": "python",
   "name": "python3"
  },
  "language_info": {
   "codemirror_mode": {
    "name": "ipython",
    "version": 3
   },
   "file_extension": ".py",
   "mimetype": "text/x-python",
   "name": "python",
   "nbconvert_exporter": "python",
   "pygments_lexer": "ipython3",
   "version": "3.8.10"
  },
  "orig_nbformat": 4
 },
 "nbformat": 4,
 "nbformat_minor": 2
}
