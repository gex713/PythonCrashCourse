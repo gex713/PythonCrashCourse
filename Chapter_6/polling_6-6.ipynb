{
 "cells": [
  {
   "cell_type": "code",
   "execution_count": 1,
   "metadata": {},
   "outputs": [
    {
     "name": "stdout",
     "output_type": "stream",
     "text": [
      "Fred, would you be so kind as to answer our poll?\n",
      "Steve, would you be so kind as to answer our poll?\n",
      "Angela, would you be so kind as to answer our poll?\n",
      "Thank you, Jen, for answering our poll!\n",
      "Thank you, Phil, for answering our poll!\n"
     ]
    }
   ],
   "source": [
    "favorite_languages = {\n",
    "    'jen': 'python',\n",
    "    'sarah': 'c',\n",
    "    'edward': 'ruby',\n",
    "    'phil': 'python',\n",
    "}\n",
    "\n",
    "need_to_take_poll = ['fred', 'steve', 'angela', 'jen', 'phil']\n",
    "\n",
    "for name in need_to_take_poll:\n",
    "    if favorite_languages.get(name):\n",
    "        print(f\"Thank you, {name.title()}, for answering our poll!\")\n",
    "    else:\n",
    "        print(f\"{name.title()}, would you be so kind as to answer our poll?\")"
   ]
  }
 ],
 "metadata": {
  "interpreter": {
   "hash": "e595f85de599493997975742c38fdbdf439561c4d118c24f05252253c8fa7d2c"
  },
  "kernelspec": {
   "display_name": "Python 3.8.10 64-bit (windows store)",
   "language": "python",
   "name": "python3"
  },
  "language_info": {
   "codemirror_mode": {
    "name": "ipython",
    "version": 3
   },
   "file_extension": ".py",
   "mimetype": "text/x-python",
   "name": "python",
   "nbconvert_exporter": "python",
   "pygments_lexer": "ipython3",
   "version": "3.8.10"
  },
  "orig_nbformat": 4
 },
 "nbformat": 4,
 "nbformat_minor": 2
}
