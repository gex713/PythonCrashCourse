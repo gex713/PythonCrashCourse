{
 "cells": [
  {
   "cell_type": "code",
   "execution_count": 1,
   "metadata": {},
   "outputs": [
    {
     "name": "stdout",
     "output_type": "stream",
     "text": [
      "Houston's favorite number is 7\n",
      "Angela's favorite number is 5\n",
      "Eva's favorite number is 13\n",
      "DJ's favorite number is 14\n",
      "Stephen's favorite number is 19\n"
     ]
    }
   ],
   "source": [
    "favorite_numbers = {\n",
    "    'houston': 7,\n",
    "    'angela': 5,\n",
    "    'eva': 13,\n",
    "    'dj': 14,\n",
    "    'stephen': 19,\n",
    "}\n",
    "\n",
    "print(f\"Houston's favorite number is {favorite_numbers['houston']}\")\n",
    "print(f\"Angela's favorite number is {favorite_numbers['angela']}\")\n",
    "print(f\"Eva's favorite number is {favorite_numbers['eva']}\")\n",
    "print(f\"DJ's favorite number is {favorite_numbers['dj']}\")\n",
    "print(f\"Stephen's favorite number is {favorite_numbers['stephen']}\")"
   ]
  }
 ],
 "metadata": {
  "interpreter": {
   "hash": "e595f85de599493997975742c38fdbdf439561c4d118c24f05252253c8fa7d2c"
  },
  "kernelspec": {
   "display_name": "Python 3.8.10 64-bit (windows store)",
   "language": "python",
   "name": "python3"
  },
  "language_info": {
   "codemirror_mode": {
    "name": "ipython",
    "version": 3
   },
   "file_extension": ".py",
   "mimetype": "text/x-python",
   "name": "python",
   "nbconvert_exporter": "python",
   "pygments_lexer": "ipython3",
   "version": "3.8.10"
  },
  "orig_nbformat": 4
 },
 "nbformat": 4,
 "nbformat_minor": 2
}
