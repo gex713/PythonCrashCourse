{
 "cells": [
  {
   "cell_type": "code",
   "execution_count": 3,
   "metadata": {},
   "outputs": [
    {
     "name": "stdout",
     "output_type": "stream",
     "text": [
      "Angela Miller is 32 years old and lives in Knoxville\n",
      "Houston Miller is 33 years old and lives in Knoxville\n",
      "Dj Miller is 29 years old and lives in Alcoa\n"
     ]
    }
   ],
   "source": [
    "people = []\n",
    "\n",
    "person = {\n",
    "    'first_name': 'angela', \n",
    "    'last_name': 'miller',\n",
    "    'age': 32,\n",
    "    'city': 'knoxville',\n",
    "    }\n",
    "\n",
    "people.append(person)\n",
    "\n",
    "person = {\n",
    "    'first_name': 'houston', \n",
    "    'last_name': 'miller',\n",
    "    'age': 33,\n",
    "    'city': 'knoxville',\n",
    "}\n",
    "\n",
    "people.append(person)\n",
    "\n",
    "person = {\n",
    "    'first_name': 'dj', \n",
    "    'last_name': 'miller',\n",
    "    'age': 29,\n",
    "    'city': 'alcoa',\n",
    "}\n",
    "\n",
    "people.append(person)\n",
    "\n",
    "for person in people:\n",
    "    print(f\"{person['first_name'].title()} {person['last_name'].title()} is {person['age']} years old and lives in {person['city'].title()}\")"
   ]
  }
 ],
 "metadata": {
  "interpreter": {
   "hash": "e595f85de599493997975742c38fdbdf439561c4d118c24f05252253c8fa7d2c"
  },
  "kernelspec": {
   "display_name": "Python 3.8.10 64-bit (windows store)",
   "language": "python",
   "name": "python3"
  },
  "language_info": {
   "codemirror_mode": {
    "name": "ipython",
    "version": 3
   },
   "file_extension": ".py",
   "mimetype": "text/x-python",
   "name": "python",
   "nbconvert_exporter": "python",
   "pygments_lexer": "ipython3",
   "version": "3.8.10"
  },
  "orig_nbformat": 4
 },
 "nbformat": 4,
 "nbformat_minor": 2
}
