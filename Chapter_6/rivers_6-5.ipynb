{
 "cells": [
  {
   "cell_type": "code",
   "execution_count": 3,
   "metadata": {},
   "outputs": [
    {
     "name": "stdout",
     "output_type": "stream",
     "text": [
      "The Nile runs through Egypt.\n",
      "The Amazon runs through Brazil.\n",
      "The Mississppi runs through United States Of America.\n",
      "nile\n",
      "amazon\n",
      "mississppi\n",
      "egypt\n",
      "brazil\n",
      "united states of america\n"
     ]
    }
   ],
   "source": [
    "rivers = {\n",
    "    'nile': 'egypt',\n",
    "    'amazon': 'brazil',\n",
    "    'mississppi': 'united states of america',\n",
    "}\n",
    "\n",
    "for river in rivers:\n",
    "    print(f\"The {river.title()} runs through {rivers[river].title()}.\")\n",
    "\n",
    "for river in rivers.keys():\n",
    "    print(river)\n",
    "\n",
    "for countries in rivers.values():\n",
    "    print(countries)"
   ]
  }
 ],
 "metadata": {
  "interpreter": {
   "hash": "e595f85de599493997975742c38fdbdf439561c4d118c24f05252253c8fa7d2c"
  },
  "kernelspec": {
   "display_name": "Python 3.8.10 64-bit (windows store)",
   "language": "python",
   "name": "python3"
  },
  "language_info": {
   "codemirror_mode": {
    "name": "ipython",
    "version": 3
   },
   "file_extension": ".py",
   "mimetype": "text/x-python",
   "name": "python",
   "nbconvert_exporter": "python",
   "pygments_lexer": "ipython3",
   "version": "3.8.10"
  },
  "orig_nbformat": 4
 },
 "nbformat": 4,
 "nbformat_minor": 2
}
