{
 "cells": [
  {
   "cell_type": "code",
   "execution_count": 1,
   "metadata": {},
   "outputs": [
    {
     "name": "stdout",
     "output_type": "stream",
     "text": [
      "Angela\n",
      "Miller\n",
      "32\n",
      "Knoxville\n"
     ]
    }
   ],
   "source": [
    "person = {\n",
    "    'first_name': 'angela', \n",
    "    'last_name': 'miller',\n",
    "    'age': 32,\n",
    "    'city': 'knoxville',\n",
    "    }\n",
    "\n",
    "print(person['first_name'].title())\n",
    "print(person['last_name'].title())\n",
    "print(person['age'])\n",
    "print(person['city'].title())"
   ]
  }
 ],
 "metadata": {
  "interpreter": {
   "hash": "e595f85de599493997975742c38fdbdf439561c4d118c24f05252253c8fa7d2c"
  },
  "kernelspec": {
   "display_name": "Python 3.8.10 64-bit (windows store)",
   "language": "python",
   "name": "python3"
  },
  "language_info": {
   "codemirror_mode": {
    "name": "ipython",
    "version": 3
   },
   "file_extension": ".py",
   "mimetype": "text/x-python",
   "name": "python",
   "nbconvert_exporter": "python",
   "pygments_lexer": "ipython3",
   "version": "3.8.10"
  },
  "orig_nbformat": 4
 },
 "nbformat": 4,
 "nbformat_minor": 2
}
