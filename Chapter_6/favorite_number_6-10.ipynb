{
 "cells": [
  {
   "cell_type": "code",
   "execution_count": 1,
   "metadata": {},
   "outputs": [
    {
     "name": "stdout",
     "output_type": "stream",
     "text": [
      "Houston has 3 favorite numbers. They are:\n",
      "\t5\n",
      "\t7\n",
      "\t13\n",
      "Angela has 4 favorite numbers. They are:\n",
      "\t3\n",
      "\t4\n",
      "\t5\n",
      "\t9\n",
      "Eva has 1 favorite numbers. They are:\n",
      "\t13\n",
      "Dj has 4 favorite numbers. They are:\n",
      "\t14\n",
      "\t27\n",
      "\t37\n",
      "\t55\n",
      "Stephen has 1 favorite numbers. They are:\n",
      "\t19\n"
     ]
    }
   ],
   "source": [
    "favorite_numbers = {\n",
    "    'houston': [7, 5, 13],\n",
    "    'angela': [5, 3, 4, 9],\n",
    "    'eva': [13],\n",
    "    'dj': [14, 27, 37, 55],\n",
    "    'stephen': [19],\n",
    "}\n",
    "\n",
    "for person, nums in favorite_numbers.items():\n",
    "    print(f\"{person.title()} has {len(nums)} favorite numbers. They are:\")\n",
    "    for num in sorted(nums):\n",
    "        print(f\"\\t{num}\")"
   ]
  }
 ],
 "metadata": {
  "interpreter": {
   "hash": "e595f85de599493997975742c38fdbdf439561c4d118c24f05252253c8fa7d2c"
  },
  "kernelspec": {
   "display_name": "Python 3.8.10 64-bit (windows store)",
   "language": "python",
   "name": "python3"
  },
  "language_info": {
   "codemirror_mode": {
    "name": "ipython",
    "version": 3
   },
   "file_extension": ".py",
   "mimetype": "text/x-python",
   "name": "python",
   "nbconvert_exporter": "python",
   "pygments_lexer": "ipython3",
   "version": "3.8.10"
  },
  "orig_nbformat": 4
 },
 "nbformat": 4,
 "nbformat_minor": 2
}
