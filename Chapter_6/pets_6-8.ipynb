{
 "cells": [
  {
   "cell_type": "code",
   "execution_count": 2,
   "metadata": {},
   "outputs": [
    {
     "name": "stdout",
     "output_type": "stream",
     "text": [
      "Houston has a cat named India\n",
      "{'name': 'india', 'animal': 'cat', 'owner': 'houston'}\n",
      "Eva has a cat named Fuzzy\n",
      "{'name': 'fuzzy', 'animal': 'cat', 'owner': 'eva'}\n",
      "Dj has a dog named Waylon\n",
      "{'name': 'waylon', 'animal': 'dog', 'owner': 'dj'}\n",
      "Angela has a cat named Shadow\n",
      "{'name': 'shadow', 'animal': 'cat', 'owner': 'angela'}\n",
      "Danielle has a dog named Nymeria\n",
      "{'name': 'nymeria', 'animal': 'dog', 'owner': 'danielle'}\n"
     ]
    }
   ],
   "source": [
    "pets = []\n",
    "\n",
    "pet = {\n",
    "    'name': 'india',\n",
    "    'animal': 'cat',\n",
    "    'owner': 'houston',\n",
    "}\n",
    "pets.append(pet)\n",
    "\n",
    "pet = {\n",
    "    'name': 'fuzzy',\n",
    "    'animal': 'cat',\n",
    "    'owner': 'eva',\n",
    "}\n",
    "pets.append(pet)\n",
    "\n",
    "pet = {\n",
    "    'name': 'waylon',\n",
    "    'animal': 'dog',\n",
    "    'owner': 'dj',\n",
    "}\n",
    "pets.append(pet)\n",
    "\n",
    "pet = {\n",
    "    'name': 'shadow',\n",
    "    'animal': 'cat',\n",
    "    'owner': 'angela',\n",
    "}\n",
    "pets.append(pet)\n",
    "\n",
    "pet = {\n",
    "    'name': 'nymeria',\n",
    "    'animal': 'dog',\n",
    "    'owner': 'danielle',\n",
    "}\n",
    "pets.append(pet)\n",
    "\n",
    "for pet in pets:\n",
    "    print(f\"{pet['owner'].title()} has a {pet['animal']} named {pet['name'].title()}\")\n",
    "    print(pet)"
   ]
  }
 ],
 "metadata": {
  "interpreter": {
   "hash": "e595f85de599493997975742c38fdbdf439561c4d118c24f05252253c8fa7d2c"
  },
  "kernelspec": {
   "display_name": "Python 3.8.10 64-bit (windows store)",
   "language": "python",
   "name": "python3"
  },
  "language_info": {
   "codemirror_mode": {
    "name": "ipython",
    "version": 3
   },
   "file_extension": ".py",
   "mimetype": "text/x-python",
   "name": "python",
   "nbconvert_exporter": "python",
   "pygments_lexer": "ipython3",
   "version": "3.8.10"
  },
  "orig_nbformat": 4
 },
 "nbformat": 4,
 "nbformat_minor": 2
}
