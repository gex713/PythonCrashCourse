{
 "cells": [
  {
   "cell_type": "code",
   "execution_count": 13,
   "metadata": {},
   "outputs": [
    {
     "name": "stdout",
     "output_type": "stream",
     "text": [
      "Aladdin\n",
      "['aladdin', 'oliver and company', 'little mermaid', 'encanto', 'beauty and the beast']\n",
      "['aladdin', 'oliver and company', 'little mermaid', 'cinderella', 'encanto', 'beauty and the beast']\n",
      "['aladdin', 'oliver and company', 'little mermaid', 'cinderella', 'beauty and the beast']\n",
      "My favorite Disney movie is Beauty And The Beast\n",
      "['aladdin', 'oliver and company', 'little mermaid']\n",
      "['aladdin', 'little mermaid', 'oliver and company']\n",
      "['oliver and company', 'little mermaid', 'aladdin']\n",
      "['aladdin', 'little mermaid', 'oliver and company']\n",
      "['oliver and company', 'little mermaid', 'aladdin']\n",
      "['oliver and company', 'little mermaid', 'aladdin', 'nightmare before christmas']\n",
      "['nightmare before christmas', 'aladdin', 'little mermaid', 'oliver and company']\n"
     ]
    }
   ],
   "source": [
    "# Use every function we have talked about\n",
    "# title(), append, insert, del, pop, remove, sort, sorted, reverse\n",
    "\n",
    "disney_movies = ['aladdin', 'oliver and company', 'little mermaid', 'encanto']\n",
    "print(disney_movies[0].title())\n",
    "\n",
    "disney_movies.append('beauty and the beast')\n",
    "print(disney_movies)\n",
    "\n",
    "disney_movies.insert(3, 'cinderella')\n",
    "print(disney_movies)\n",
    "\n",
    "del disney_movies[4] # Classics only! \n",
    "print(disney_movies)\n",
    "\n",
    "favorite = disney_movies.pop()\n",
    "print(f'My favorite Disney movie is {favorite.title()}')\n",
    "\n",
    "disney_movies.remove('cinderella')\n",
    "print(disney_movies)\n",
    "\n",
    "disney_movies.sort()\n",
    "print(disney_movies)\n",
    "disney_movies.sort(reverse=True)\n",
    "print(disney_movies)\n",
    "print(sorted(disney_movies))\n",
    "print(sorted(disney_movies, reverse=True))\n",
    "disney_movies.append('nightmare before christmas')\n",
    "print(disney_movies)\n",
    "disney_movies.reverse()\n",
    "print(disney_movies)\n",
    "\n",
    "# Intentional Error, uncomment to see Out Of Range/Index Error\n",
    "# print(disney_movies[8])"
   ]
  }
 ],
 "metadata": {
  "interpreter": {
   "hash": "3aa81d3e10d08a31fb3625dae1e2a0f4ee71d5f6eaa838bd13ea13a30a226ab5"
  },
  "kernelspec": {
   "display_name": "Python 3.8.10 64-bit (windows store)",
   "language": "python",
   "name": "python3"
  },
  "language_info": {
   "codemirror_mode": {
    "name": "ipython",
    "version": 3
   },
   "file_extension": ".py",
   "mimetype": "text/x-python",
   "name": "python",
   "nbconvert_exporter": "python",
   "pygments_lexer": "ipython3",
   "version": "3.8.10"
  },
  "orig_nbformat": 4
 },
 "nbformat": 4,
 "nbformat_minor": 2
}
