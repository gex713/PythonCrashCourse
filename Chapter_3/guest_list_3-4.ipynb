{
 "cells": [
  {
   "cell_type": "code",
   "execution_count": 13,
   "metadata": {},
   "outputs": [
    {
     "name": "stdout",
     "output_type": "stream",
     "text": [
      "Dear Ryan Reynolds, would you like to go to dinner?\n",
      "Dear Albert Einstein, would you like to go to dinner?\n",
      "Dear Weird Al, would you like to go to dinner?\n"
     ]
    }
   ],
   "source": [
    "guest_list = ['ryan reynolds', 'albert einstein', 'weird al']\n",
    "print(f'Dear {guest_list[0].title()}, would you like to go to dinner?')\n",
    "print(f'Dear {guest_list[1].title()}, would you like to go to dinner?')\n",
    "print(f'Dear {guest_list[2].title()}, would you like to go to dinner?')"
   ]
  },
  {
   "cell_type": "code",
   "execution_count": 14,
   "metadata": {},
   "outputs": [
    {
     "name": "stdout",
     "output_type": "stream",
     "text": [
      "Albert Einstein cant make it.\n",
      "Dear Ryan Reynolds, would you like to go to dinner?\n",
      "Dear Weird Al, would you like to go to dinner?\n",
      "Dear Billie Joe Armstrong, would you like to go to dinner?\n"
     ]
    }
   ],
   "source": [
    "# Changing the guest list - 3-5\n",
    "cant_make_it = guest_list.pop(1)\n",
    "print(f'{cant_make_it.title()} cant make it.')\n",
    "# Add a new guest to the list\n",
    "guest_list.append('billie joe armstrong')\n",
    "\n",
    "print(f'Dear {guest_list[0].title()}, would you like to go to dinner?')\n",
    "print(f'Dear {guest_list[1].title()}, would you like to go to dinner?')\n",
    "print(f'Dear {guest_list[2].title()}, would you like to go to dinner?')"
   ]
  },
  {
   "cell_type": "code",
   "execution_count": 15,
   "metadata": {},
   "outputs": [
    {
     "name": "stdout",
     "output_type": "stream",
     "text": [
      "Holy cow, I found a place with a bigger table so we can invite more people.\n",
      "Dear Thomas Edison, would you like to go to dinner?\n",
      "Dear Ryan Reynolds, would you like to go to dinner?\n",
      "Dear Barack Obama, would you like to go to dinner?\n",
      "Dear Weird Al, would you like to go to dinner?\n",
      "Dear Billie Joe Armstrong, would you like to go to dinner?\n",
      "Dear Stephen King, would you like to go to dinner?\n"
     ]
    }
   ],
   "source": [
    "# More Guests - 3-6\n",
    "print('Holy cow, I found a place with a bigger table so we can invite more people.')\n",
    "guest_list.insert(0, 'thomas edison')\n",
    "guest_list.insert(2, 'barack obama')\n",
    "guest_list.append('stephen king')\n",
    "\n",
    "print(f'Dear {guest_list[0].title()}, would you like to go to dinner?')\n",
    "print(f'Dear {guest_list[1].title()}, would you like to go to dinner?')\n",
    "print(f'Dear {guest_list[2].title()}, would you like to go to dinner?')\n",
    "print(f'Dear {guest_list[3].title()}, would you like to go to dinner?')\n",
    "print(f'Dear {guest_list[4].title()}, would you like to go to dinner?')\n",
    "print(f'Dear {guest_list[5].title()}, would you like to go to dinner?')"
   ]
  },
  {
   "cell_type": "code",
   "execution_count": 16,
   "metadata": {},
   "outputs": [
    {
     "name": "stdout",
     "output_type": "stream",
     "text": [
      "Egg on my face, the dinner table wont be ready in time. Some of you must be cut. There will be two survivors.\n",
      "I am sorry, Stephen King, but you cannot come to dinner.\n",
      "I am sorry, Billie Joe Armstrong, but you cannot come to dinner.\n",
      "I am sorry, Weird Al, but you cannot come to dinner.\n",
      "I am sorry, Barack Obama, but you cannot come to dinner.\n",
      "Thomas Edison, you got lucky and still get to go to dinner.\n",
      "Ryan Reynolds, you got lucky and still get to go to dinner.\n",
      "The guest list is now empty: []\n"
     ]
    }
   ],
   "source": [
    "# Shrinking Guest List - 3-7\n",
    "print('Egg on my face, the dinner table wont be ready in time. Some of you must be cut. There will be two survivors.')\n",
    "uninvited = guest_list.pop()\n",
    "print(f'I am sorry, {uninvited.title()}, but you cannot come to dinner.')\n",
    "uninvited = guest_list.pop()\n",
    "print(f'I am sorry, {uninvited.title()}, but you cannot come to dinner.')\n",
    "uninvited = guest_list.pop()\n",
    "print(f'I am sorry, {uninvited.title()}, but you cannot come to dinner.')\n",
    "uninvited = guest_list.pop()\n",
    "print(f'I am sorry, {uninvited.title()}, but you cannot come to dinner.')\n",
    "\n",
    "print(f'{guest_list[0].title()}, you got lucky and still get to go to dinner.')\n",
    "print(f'{guest_list[1].title()}, you got lucky and still get to go to dinner.')\n",
    "\n",
    "del guest_list[0]\n",
    "del guest_list[0]\n",
    "print(f'The guest list is now empty: {guest_list}')"
   ]
  }
 ],
 "metadata": {
  "interpreter": {
   "hash": "3aa81d3e10d08a31fb3625dae1e2a0f4ee71d5f6eaa838bd13ea13a30a226ab5"
  },
  "kernelspec": {
   "display_name": "Python 3.8.10 64-bit (windows store)",
   "language": "python",
   "name": "python3"
  },
  "language_info": {
   "codemirror_mode": {
    "name": "ipython",
    "version": 3
   },
   "file_extension": ".py",
   "mimetype": "text/x-python",
   "name": "python",
   "nbconvert_exporter": "python",
   "pygments_lexer": "ipython3",
   "version": "3.8.10"
  },
  "orig_nbformat": 4
 },
 "nbformat": 4,
 "nbformat_minor": 2
}
