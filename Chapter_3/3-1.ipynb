{
 "cells": [
  {
   "cell_type": "code",
   "execution_count": 1,
   "metadata": {},
   "outputs": [
    {
     "name": "stdout",
     "output_type": "stream",
     "text": [
      "Tyler\n",
      "Stacy\n",
      "Angela\n",
      "Mike\n",
      "Kyle\n",
      "Cameron\n"
     ]
    }
   ],
   "source": [
    "# Names\n",
    "names = [\"Tyler\", \"Stacy\", \"Angela\", \"Mike\", \"Kyle\", \"Cameron\"]\n",
    "print(names[0])\n",
    "print(names[1])\n",
    "print(names[2])\n",
    "print(names[3])\n",
    "print(names[4])\n",
    "print(names[5])"
   ]
  },
  {
   "cell_type": "code",
   "execution_count": 2,
   "metadata": {},
   "outputs": [
    {
     "name": "stdout",
     "output_type": "stream",
     "text": [
      "Hey, Tyler, I hope you have a great day!\n",
      "Hey, Stacy, I hope you have a great day!\n",
      "Hey, Angela, I hope you have a great day!\n",
      "Hey, Mike, I hope you have a great day!\n",
      "Hey, Kyle, I hope you have a great day!\n",
      "Hey, Cameron, I hope you have a great day!\n"
     ]
    }
   ],
   "source": [
    "# 3-2, Greetings\n",
    "print(f\"Hey, {names[0]}, I hope you have a great day!\")\n",
    "print(f\"Hey, {names[1]}, I hope you have a great day!\")\n",
    "print(f\"Hey, {names[2]}, I hope you have a great day!\")\n",
    "print(f\"Hey, {names[3]}, I hope you have a great day!\")\n",
    "print(f\"Hey, {names[4]}, I hope you have a great day!\")\n",
    "print(f\"Hey, {names[5]}, I hope you have a great day!\")"
   ]
  },
  {
   "cell_type": "code",
   "execution_count": 4,
   "metadata": {},
   "outputs": [
    {
     "name": "stdout",
     "output_type": "stream",
     "text": [
      "My wife has a Subaru and she loves those cars.\n",
      "I used to own a Geo. Go Geo, go!\n",
      "It is unlikely that I will ever own a Ford.\n"
     ]
    }
   ],
   "source": [
    "# 3-3, Your own List\n",
    "cars = [\"subaru\", \"geo\", \"ford\"]\n",
    "print(f\"My wife has a {cars[0].title()} and she loves those cars.\")\n",
    "print(f\"I used to own a {cars[1].title()}. Go {cars[1].title()}, go!\")\n",
    "print(f\"It is unlikely that I will ever own a {cars[2].title()}.\")"
   ]
  }
 ],
 "metadata": {
  "interpreter": {
   "hash": "3aa81d3e10d08a31fb3625dae1e2a0f4ee71d5f6eaa838bd13ea13a30a226ab5"
  },
  "kernelspec": {
   "display_name": "Python 3.8.10 64-bit (windows store)",
   "language": "python",
   "name": "python3"
  },
  "language_info": {
   "codemirror_mode": {
    "name": "ipython",
    "version": 3
   },
   "file_extension": ".py",
   "mimetype": "text/x-python",
   "name": "python",
   "nbconvert_exporter": "python",
   "pygments_lexer": "ipython3",
   "version": "3.8.10"
  },
  "orig_nbformat": 4
 },
 "nbformat": 4,
 "nbformat_minor": 2
}
