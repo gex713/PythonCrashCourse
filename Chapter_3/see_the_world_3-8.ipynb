{
 "cells": [
  {
   "cell_type": "code",
   "execution_count": 10,
   "metadata": {},
   "outputs": [
    {
     "name": "stdout",
     "output_type": "stream",
     "text": [
      "['ireland', 'japan', 'greece', 'taj mahal', 'great wall of china']\n",
      "['great wall of china', 'greece', 'ireland', 'japan', 'taj mahal']\n",
      "['ireland', 'japan', 'greece', 'taj mahal', 'great wall of china']\n",
      "['taj mahal', 'japan', 'ireland', 'greece', 'great wall of china']\n",
      "['ireland', 'japan', 'greece', 'taj mahal', 'great wall of china']\n",
      "['great wall of china', 'taj mahal', 'greece', 'japan', 'ireland']\n",
      "['ireland', 'japan', 'greece', 'taj mahal', 'great wall of china']\n",
      "['great wall of china', 'greece', 'ireland', 'japan', 'taj mahal']\n",
      "['taj mahal', 'japan', 'ireland', 'greece', 'great wall of china']\n"
     ]
    }
   ],
   "source": [
    "places = ['ireland', 'japan', 'greece', 'taj mahal', 'great wall of china']\n",
    "print(places)\n",
    "\n",
    "# Sorts without modifying original list\n",
    "print(sorted(places))\n",
    "\n",
    "# See, the list is still intact\n",
    "print(places)\n",
    "\n",
    "# Reverse sorted\n",
    "print(sorted(places, reverse=True))\n",
    "\n",
    "# Original list still unmodified\n",
    "print(places)\n",
    "\n",
    "# Reverse, actually modifies list\n",
    "places.reverse()\n",
    "print(places)\n",
    "\n",
    "# Reverse again to restore the list, actually modifies list\n",
    "places.reverse()\n",
    "print(places)\n",
    "\n",
    "# Sort the list, actually modify it\n",
    "places.sort()\n",
    "print(places)\n",
    "\n",
    "# Reverse sort the list, actually modify it\n",
    "places.sort(reverse=True)\n",
    "print(places)\n"
   ]
  }
 ],
 "metadata": {
  "interpreter": {
   "hash": "3aa81d3e10d08a31fb3625dae1e2a0f4ee71d5f6eaa838bd13ea13a30a226ab5"
  },
  "kernelspec": {
   "display_name": "Python 3.8.10 64-bit (windows store)",
   "language": "python",
   "name": "python3"
  },
  "language_info": {
   "codemirror_mode": {
    "name": "ipython",
    "version": 3
   },
   "file_extension": ".py",
   "mimetype": "text/x-python",
   "name": "python",
   "nbconvert_exporter": "python",
   "pygments_lexer": "ipython3",
   "version": "3.8.10"
  },
  "orig_nbformat": 4
 },
 "nbformat": 4,
 "nbformat_minor": 2
}
