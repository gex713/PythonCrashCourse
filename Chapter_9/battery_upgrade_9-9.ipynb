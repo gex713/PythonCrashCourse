{
 "cells": [
  {
   "cell_type": "code",
   "execution_count": 4,
   "metadata": {},
   "outputs": [],
   "source": [
    "# Copied from the electric_car.py code per instructions\n",
    "class Car:\n",
    "    \"\"\"A simple attempt to represent a car\"\"\"\n",
    "    def __init__(self, make, model, year):\n",
    "        self.make = make\n",
    "        self.model = model\n",
    "        self.year = year\n",
    "        self.odometer_reading = 0\n",
    "\n",
    "    def get_descriptive_name(self):\n",
    "        long_name = f\"{self.year} {self.make} {self.model}\"\n",
    "        return long_name.title()\n",
    "\n",
    "    def read_odometer(self):\n",
    "        print(f\"This car has {self.odometer} miles on it.\")\n",
    "\n",
    "    def update_odometer(self, mileage):\n",
    "        if mileage >= self.odometer_reading:\n",
    "            self.odometer_reading = mileage\n",
    "        else:\n",
    "            print(\"You can't roll back an odometer!\")\n",
    "        \n",
    "    def increment_odometer(self, miles):\n",
    "        self.odometer_reading += miles\n",
    "\n",
    "\n",
    "class Battery:\n",
    "    \"\"\"A simple attempt to model a battery for an electric car.\"\"\"\n",
    "    def __init__(self, battery_size=75):\n",
    "        \"\"\"Initialize the battery's attributes.\"\"\"\n",
    "        self.battery_size = battery_size\n",
    "\n",
    "    def describe_battery(self):\n",
    "        \"\"\"Print a statement describing the battery size.\"\"\"\n",
    "        print(f\"This car has a {self.battery_size}-kWh battery.\")\n",
    "\n",
    "    def get_range(self):\n",
    "        \"\"\"Print a statement about the range this battery provides.\"\"\"\n",
    "        if self.battery_size == 75:\n",
    "            range = 260\n",
    "        elif self.battery_size == 100:\n",
    "            range = 315\n",
    "\n",
    "        print(f\"This car can go about {range} miles on a full charge.\")\n",
    "\n",
    "    def upgrade_battery(self):\n",
    "        \"\"\"Upgrades the battery if it is not already at 100.\"\"\"\n",
    "        if self.battery_size != 100:\n",
    "            self.battery_size = 100\n",
    "\n",
    "\n",
    "class ElectricCar(Car):\n",
    "    \"\"\"Represents aspects of a car, specific to electric vehicles.\"\"\"\n",
    "\n",
    "    def __init__(self, make, model, year):\n",
    "        \"\"\"Initialize attributes of the parent class.\n",
    "        Then initialize attributes specific to an electric car.\"\"\"\n",
    "        super().__init__(make, model, year)\n",
    "        self.battery = Battery()"
   ]
  },
  {
   "cell_type": "code",
   "execution_count": 5,
   "metadata": {},
   "outputs": [
    {
     "name": "stdout",
     "output_type": "stream",
     "text": [
      "This car can go about 260 miles on a full charge.\n",
      "Upgrading battery...\n",
      "Battery upgraded!\n",
      "This car can go about 315 miles on a full charge.\n"
     ]
    }
   ],
   "source": [
    "elec_car = ElectricCar(\"Tesla\", \"S3\", 2018)\n",
    "elec_car.battery.get_range()\n",
    "print(\"Upgrading battery...\")\n",
    "elec_car.battery.upgrade_battery()\n",
    "print(\"Battery upgraded!\")\n",
    "elec_car.battery.get_range()"
   ]
  }
 ],
 "metadata": {
  "kernelspec": {
   "display_name": "Python 3.8.10 64-bit (windows store)",
   "language": "python",
   "name": "python3"
  },
  "language_info": {
   "codemirror_mode": {
    "name": "ipython",
    "version": 3
   },
   "file_extension": ".py",
   "mimetype": "text/x-python",
   "name": "python",
   "nbconvert_exporter": "python",
   "pygments_lexer": "ipython3",
   "version": "3.8.10"
  },
  "orig_nbformat": 4,
  "vscode": {
   "interpreter": {
    "hash": "e595f85de599493997975742c38fdbdf439561c4d118c24f05252253c8fa7d2c"
   }
  }
 },
 "nbformat": 4,
 "nbformat_minor": 2
}
