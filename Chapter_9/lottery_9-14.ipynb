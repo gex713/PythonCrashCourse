{
 "cells": [
  {
   "cell_type": "code",
   "execution_count": 14,
   "metadata": {},
   "outputs": [
    {
     "name": "stdout",
     "output_type": "stream",
     "text": [
      "If your ticket matches ['I', '30', '87', '13'], then you won!\n"
     ]
    }
   ],
   "source": [
    "from random import choice\n",
    "\n",
    "possible_lotto_choices = []\n",
    "\n",
    "def reset_choices():\n",
    "    possible_lotto_choices.clear()\n",
    "    possible_lotto_choices.append(\"13\")\n",
    "    possible_lotto_choices.append(\"14\")\n",
    "    possible_lotto_choices.append(\"75\")\n",
    "    possible_lotto_choices.append(\"33\")\n",
    "    possible_lotto_choices.append(\"91\")\n",
    "    possible_lotto_choices.append(\"54\")\n",
    "    possible_lotto_choices.append(\"87\")\n",
    "    possible_lotto_choices.append(\"29\")\n",
    "    possible_lotto_choices.append(\"44\")\n",
    "    possible_lotto_choices.append(\"30\")\n",
    "    possible_lotto_choices.append(\"B\")\n",
    "    possible_lotto_choices.append(\"I\")\n",
    "    possible_lotto_choices.append(\"N\")\n",
    "    possible_lotto_choices.append(\"G\")\n",
    "    possible_lotto_choices.append(\"O\")\n",
    "\n",
    "winning_ticket = []\n",
    "def reset_winning_ticket():\n",
    "    winning_ticket.clear()\n",
    "\n",
    "# Call reset the first time to get some stuff on the list\n",
    "reset_choices()\n",
    "# print(possible_lotto_choices)\n",
    "\n",
    "def draw_numbers():\n",
    "    \"\"\"Play the lottery!\"\"\"\n",
    "    for i in range(4):\n",
    "        winning_char = choice(possible_lotto_choices)\n",
    "        possible_lotto_choices.remove(winning_char)\n",
    "        winning_ticket.append(winning_char)\n",
    "\n",
    "draw_numbers()\n",
    "\n",
    "print(f\"If your ticket matches {winning_ticket}, then you won!\")"
   ]
  },
  {
   "cell_type": "code",
   "execution_count": 16,
   "metadata": {},
   "outputs": [
    {
     "name": "stdout",
     "output_type": "stream",
     "text": [
      "You had to play the lottery 27464 times before you won!\n"
     ]
    }
   ],
   "source": [
    "my_ticket = [\"B\", \"33\", \"O\", \"91\"]\n",
    "\n",
    "not_won = True\n",
    "times_played = 0\n",
    "\n",
    "while not_won:\n",
    "    reset_choices()\n",
    "    reset_winning_ticket()\n",
    "    times_played += 1\n",
    "    draw_numbers()\n",
    "    if my_ticket == winning_ticket:\n",
    "        not_won = False\n",
    "\n",
    "print(f\"You had to play the lottery {times_played} times before you won!\")\n",
    "\n",
    "# I ran this for over 11 minutes before I interrupted it. I either should never play the lottery or I made an infinite loop. \n",
    "# Turns out I definitely made an infinite loop by never clearing out the winning ticket "
   ]
  },
  {
   "cell_type": "code",
   "execution_count": 15,
   "metadata": {},
   "outputs": [
    {
     "name": "stdout",
     "output_type": "stream",
     "text": [
      "options are: ['13', '14', '75', '33', '91', '54', '87', '29', '44', '30', 'B', 'I', 'N', 'G', 'O']\n",
      "Winning ticket has been cleared: [].\n",
      "numbers drawn were ['14', '87', '29', '75']\n",
      "options are: ['13', '14', '75', '33', '91', '54', '87', '29', '44', '30', 'B', 'I', 'N', 'G', 'O']\n",
      "Winning ticket has been cleared: [].\n",
      "numbers drawn were ['75', '44', '54', 'N']\n",
      "options are: ['13', '14', '75', '33', '91', '54', '87', '29', '44', '30', 'B', 'I', 'N', 'G', 'O']\n",
      "Winning ticket has been cleared: [].\n",
      "numbers drawn were ['O', '30', 'G', '29']\n",
      "options are: ['13', '14', '75', '33', '91', '54', '87', '29', '44', '30', 'B', 'I', 'N', 'G', 'O']\n",
      "Winning ticket has been cleared: [].\n",
      "numbers drawn were ['13', 'B', '87', 'G']\n",
      "options are: ['13', '14', '75', '33', '91', '54', '87', '29', '44', '30', 'B', 'I', 'N', 'G', 'O']\n",
      "Winning ticket has been cleared: [].\n",
      "numbers drawn were ['I', '75', '14', 'N']\n",
      "options are: ['13', '14', '75', '33', '91', '54', '87', '29', '44', '30', 'B', 'I', 'N', 'G', 'O']\n",
      "Winning ticket has been cleared: [].\n",
      "numbers drawn were ['14', 'I', '13', '91']\n",
      "options are: ['13', '14', '75', '33', '91', '54', '87', '29', '44', '30', 'B', 'I', 'N', 'G', 'O']\n",
      "Winning ticket has been cleared: [].\n",
      "numbers drawn were ['54', 'O', '75', '33']\n",
      "options are: ['13', '14', '75', '33', '91', '54', '87', '29', '44', '30', 'B', 'I', 'N', 'G', 'O']\n",
      "Winning ticket has been cleared: [].\n",
      "numbers drawn were ['I', '33', '44', '87']\n",
      "options are: ['13', '14', '75', '33', '91', '54', '87', '29', '44', '30', 'B', 'I', 'N', 'G', 'O']\n",
      "Winning ticket has been cleared: [].\n",
      "numbers drawn were ['54', '33', '13', 'N']\n",
      "options are: ['13', '14', '75', '33', '91', '54', '87', '29', '44', '30', 'B', 'I', 'N', 'G', 'O']\n",
      "Winning ticket has been cleared: [].\n",
      "numbers drawn were ['O', '91', '14', '87']\n",
      "You had to play the lottery 10 times before you won!\n"
     ]
    }
   ],
   "source": [
    "# Here is a bit shorter of a test to ensure I am not doing an infinite loop.\n",
    "my_ticket = [\"B\", \"33\", \"O\", \"91\"]\n",
    "\n",
    "not_won = True\n",
    "times_played = 0\n",
    "\n",
    "for i in range(10):\n",
    "    reset_choices()\n",
    "    print(f\"options are: {possible_lotto_choices}\")\n",
    "    reset_winning_ticket()\n",
    "    print(f\"Winning ticket has been cleared: {winning_ticket}.\")\n",
    "    times_played += 1\n",
    "    draw_numbers()\n",
    "    print(f\"numbers drawn were {winning_ticket}\")\n",
    "    if my_ticket == winning_ticket:\n",
    "        not_won = False\n",
    "\n",
    "print(f\"You had to play the lottery {times_played} times before you won!\")"
   ]
  }
 ],
 "metadata": {
  "kernelspec": {
   "display_name": "Python 3.8.10 64-bit (windows store)",
   "language": "python",
   "name": "python3"
  },
  "language_info": {
   "codemirror_mode": {
    "name": "ipython",
    "version": 3
   },
   "file_extension": ".py",
   "mimetype": "text/x-python",
   "name": "python",
   "nbconvert_exporter": "python",
   "pygments_lexer": "ipython3",
   "version": "3.8.10"
  },
  "orig_nbformat": 4,
  "vscode": {
   "interpreter": {
    "hash": "e595f85de599493997975742c38fdbdf439561c4d118c24f05252253c8fa7d2c"
   }
  }
 },
 "nbformat": 4,
 "nbformat_minor": 2
}
