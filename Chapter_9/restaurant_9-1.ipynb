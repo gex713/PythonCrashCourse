{
 "cells": [
  {
   "cell_type": "code",
   "execution_count": 11,
   "metadata": {},
   "outputs": [],
   "source": [
    "class Restaurant:\n",
    "    \"\"\"A simple class to represent a restaurant.\"\"\"\n",
    "\n",
    "    def __init__(self, name, cuisine_type):\n",
    "        self.name = name\n",
    "        self.cuisine_type = cuisine_type\n",
    "        self.number_served = 0\n",
    "\n",
    "    def describe_restaurant(self):\n",
    "        print(f\"The restaurant {self.name} serves {self.cuisine_type} food.\")\n",
    "\n",
    "    def open_restaurant(self):\n",
    "        print(f\"{self.name} is open!\")\n",
    "\n",
    "    def set_number_served(self, number_served):\n",
    "        self.number_served = number_served\n",
    "\n",
    "    def increment_number_served(self, number_served):\n",
    "        self.number_served += number_served"
   ]
  },
  {
   "cell_type": "code",
   "execution_count": 2,
   "metadata": {},
   "outputs": [
    {
     "name": "stdout",
     "output_type": "stream",
     "text": [
      "Pizza Hut\n",
      "Pseudo-Italian\n",
      "The restaurant Pizza Hut serves Pseudo-Italian food.\n",
      "Pizza Hut is open!\n"
     ]
    }
   ],
   "source": [
    "restaurant = Restaurant(\"Pizza Hut\", \"Pseudo-Italian\")\n",
    "\n",
    "print(restaurant.name)\n",
    "print(restaurant.cuisine_type)\n",
    "restaurant.describe_restaurant()\n",
    "restaurant.open_restaurant()"
   ]
  },
  {
   "cell_type": "code",
   "execution_count": 12,
   "metadata": {},
   "outputs": [
    {
     "name": "stdout",
     "output_type": "stream",
     "text": [
      "The restaurant Subway serves sandwich food.\n",
      "The restaurant Red Lobster serves seafood food.\n",
      "The restaurant Wendy's serves American food.\n"
     ]
    }
   ],
   "source": [
    "# 9-2 Three Restaurants\n",
    "first_restaurant = Restaurant(\"Subway\", \"sandwich\")\n",
    "second_restaurant = Restaurant(\"Red Lobster\", \"seafood\")\n",
    "third_restaurant = Restaurant(\"Wendy's\", \"American\")\n",
    "\n",
    "first_restaurant.describe_restaurant()\n",
    "second_restaurant.describe_restaurant()\n",
    "third_restaurant.describe_restaurant()"
   ]
  },
  {
   "cell_type": "code",
   "execution_count": 13,
   "metadata": {},
   "outputs": [
    {
     "name": "stdout",
     "output_type": "stream",
     "text": [
      "Red Lobster has served 0 people!\n",
      "Red Lobster has served 5000 people!\n",
      "Red Lobster has served 456 people!\n",
      "Red Lobster has served 690 people!\n"
     ]
    }
   ],
   "source": [
    "# 9-4 Number Served\n",
    "print(f\"{second_restaurant.name.title()} has served {second_restaurant.number_served} people!\")\n",
    "second_restaurant.number_served = 5000\n",
    "print(f\"{second_restaurant.name.title()} has served {second_restaurant.number_served} people!\")\n",
    "\n",
    "second_restaurant.set_number_served(456)\n",
    "print(f\"{second_restaurant.name.title()} has served {second_restaurant.number_served} people!\")\n",
    "\n",
    "second_restaurant.increment_number_served(234)\n",
    "print(f\"{second_restaurant.name.title()} has served {second_restaurant.number_served} people!\")"
   ]
  }
 ],
 "metadata": {
  "kernelspec": {
   "display_name": "Python 3.8.10 64-bit (windows store)",
   "language": "python",
   "name": "python3"
  },
  "language_info": {
   "codemirror_mode": {
    "name": "ipython",
    "version": 3
   },
   "file_extension": ".py",
   "mimetype": "text/x-python",
   "name": "python",
   "nbconvert_exporter": "python",
   "pygments_lexer": "ipython3",
   "version": "3.8.10"
  },
  "orig_nbformat": 4,
  "vscode": {
   "interpreter": {
    "hash": "e595f85de599493997975742c38fdbdf439561c4d118c24f05252253c8fa7d2c"
   }
  }
 },
 "nbformat": 4,
 "nbformat_minor": 2
}
