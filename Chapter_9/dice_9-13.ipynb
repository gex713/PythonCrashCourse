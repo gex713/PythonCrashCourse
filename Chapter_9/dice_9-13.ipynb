{
 "cells": [
  {
   "cell_type": "code",
   "execution_count": 2,
   "metadata": {},
   "outputs": [
    {
     "name": "stdout",
     "output_type": "stream",
     "text": [
      "Rolled a 2!\n",
      "Rolled a 4!\n",
      "Rolled a 3!\n",
      "Rolled a 1!\n",
      "Rolled a 5!\n",
      "Rolled a 6!\n",
      "Rolled a 5!\n",
      "Rolled a 6!\n",
      "Rolled a 1!\n",
      "Rolled a 2!\n",
      "\n",
      "Rolled a 2!\n",
      "Rolled a 1!\n",
      "Rolled a 3!\n",
      "Rolled a 10!\n",
      "Rolled a 1!\n",
      "Rolled a 7!\n",
      "Rolled a 2!\n",
      "Rolled a 7!\n",
      "Rolled a 7!\n",
      "Rolled a 10!\n",
      "\n",
      "Rolled a 14!\n",
      "Rolled a 7!\n",
      "Rolled a 6!\n",
      "Rolled a 1!\n",
      "Rolled a 14!\n",
      "Rolled a 17!\n",
      "Rolled a 4!\n",
      "Rolled a 17!\n",
      "Rolled a 6!\n",
      "Rolled a 16!\n"
     ]
    }
   ],
   "source": [
    "from die import Die\n",
    "\n",
    "d6 = Die()\n",
    "for i in range(10):\n",
    "    d6.roll_die()\n",
    "\n",
    "print()\n",
    "\n",
    "d10 = Die(10)\n",
    "for i in range(10):\n",
    "    d10.roll_die()\n",
    "\n",
    "\n",
    "print()\n",
    "\n",
    "d20 = Die(20)\n",
    "for i in range(10):\n",
    "    d20.roll_die()"
   ]
  }
 ],
 "metadata": {
  "kernelspec": {
   "display_name": "Python 3.8.10 64-bit (windows store)",
   "language": "python",
   "name": "python3"
  },
  "language_info": {
   "codemirror_mode": {
    "name": "ipython",
    "version": 3
   },
   "file_extension": ".py",
   "mimetype": "text/x-python",
   "name": "python",
   "nbconvert_exporter": "python",
   "pygments_lexer": "ipython3",
   "version": "3.8.10"
  },
  "orig_nbformat": 4,
  "vscode": {
   "interpreter": {
    "hash": "e595f85de599493997975742c38fdbdf439561c4d118c24f05252253c8fa7d2c"
   }
  }
 },
 "nbformat": 4,
 "nbformat_minor": 2
}
