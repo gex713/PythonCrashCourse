{
 "cells": [
  {
   "cell_type": "code",
   "execution_count": 7,
   "metadata": {},
   "outputs": [],
   "source": [
    "class User:\n",
    "    \"\"\"Represents a user in the system.\"\"\"\n",
    "\n",
    "    def __init__(self, first_name, last_name, age, username):\n",
    "        \"\"\"Initalize the user\"\"\"\n",
    "        self.first_name = first_name\n",
    "        self.last_name = last_name\n",
    "        self.age = age\n",
    "        self.username = username\n",
    "        self.login_attempts = 0\n",
    "    \n",
    "    def describe_user(self):\n",
    "        \"\"\"Prints out a summary of the user's information.\"\"\"\n",
    "        print(f\"Summary for the user:\")\n",
    "        print(f\"\\tFirst Name: {self.first_name}\")\n",
    "        print(f\"\\tLast Name: {self.last_name}\")\n",
    "        print(f\"\\tAge: {self.age}\")\n",
    "        print(f\"\\tUsername: {self.username}\")\n",
    "        print(\"This is probably some kind of privacy violation!\")\n",
    "\n",
    "    def greet_user(self):\n",
    "        print(f\"Hello, {self.first_name.title()} {self.last_name.title()}! We hope you have a wonderful day!\")\n",
    "\n",
    "    def increment_login_attempts(self):\n",
    "        self.login_attempts += 1\n",
    "\n",
    "    def reset_login_attempts(self):\n",
    "        self.login_attempts = 0"
   ]
  },
  {
   "cell_type": "code",
   "execution_count": 6,
   "metadata": {},
   "outputs": [
    {
     "name": "stdout",
     "output_type": "stream",
     "text": [
      "Summary for the user:\n",
      "\tFirst Name: houston\n",
      "\tLast Name: miller\n",
      "\tAge: 33\n",
      "\tUsername: gex713\n",
      "This is probably some kind of privacy violation!\n",
      "Hello, Houston Miller! We hope you have a wonderful day!\n",
      "\n",
      "Summary for the user:\n",
      "\tFirst Name: angela\n",
      "\tLast Name: miller\n",
      "\tAge: 32\n",
      "\tUsername: evangela\n",
      "This is probably some kind of privacy violation!\n",
      "Hello, Angela Miller! We hope you have a wonderful day!\n",
      "\n",
      "Summary for the user:\n",
      "\tFirst Name: pee wee\n",
      "\tLast Name: herman\n",
      "\tAge: 50\n",
      "\tUsername: p33w335pl4yhouse\n",
      "This is probably some kind of privacy violation!\n",
      "Hello, Pee Wee Herman! We hope you have a wonderful day!\n"
     ]
    }
   ],
   "source": [
    "first_user = User(\"houston\", \"miller\", 33, \"gex713\")\n",
    "second_user = User(\"angela\", \"miller\", 32, \"evangela\")\n",
    "third_user = User(\"pee wee\", \"herman\", 50, \"p33w335pl4yhouse\")\n",
    "\n",
    "first_user.describe_user()\n",
    "first_user.greet_user()\n",
    "print()\n",
    "second_user.describe_user()\n",
    "second_user.greet_user()\n",
    "print()\n",
    "third_user.describe_user()\n",
    "third_user.greet_user()"
   ]
  },
  {
   "cell_type": "code",
   "execution_count": 8,
   "metadata": {},
   "outputs": [
    {
     "name": "stdout",
     "output_type": "stream",
     "text": [
      "Number of login attempts is 8.\n",
      "Number of login attempts is 0.\n"
     ]
    }
   ],
   "source": [
    "logging_in_user = User(\"Log\", \"Inn\", 13, \"l33tD00d\")\n",
    "\n",
    "for i in range(8):\n",
    "    logging_in_user.increment_login_attempts()\n",
    "\n",
    "print(f\"Number of login attempts is {logging_in_user.login_attempts}.\")\n",
    "\n",
    "logging_in_user.reset_login_attempts()\n",
    "print(f\"Number of login attempts is {logging_in_user.login_attempts}.\")"
   ]
  }
 ],
 "metadata": {
  "kernelspec": {
   "display_name": "Python 3.8.10 64-bit (windows store)",
   "language": "python",
   "name": "python3"
  },
  "language_info": {
   "codemirror_mode": {
    "name": "ipython",
    "version": 3
   },
   "file_extension": ".py",
   "mimetype": "text/x-python",
   "name": "python",
   "nbconvert_exporter": "python",
   "pygments_lexer": "ipython3",
   "version": "3.8.10"
  },
  "orig_nbformat": 4,
  "vscode": {
   "interpreter": {
    "hash": "e595f85de599493997975742c38fdbdf439561c4d118c24f05252253c8fa7d2c"
   }
  }
 },
 "nbformat": 4,
 "nbformat_minor": 2
}
