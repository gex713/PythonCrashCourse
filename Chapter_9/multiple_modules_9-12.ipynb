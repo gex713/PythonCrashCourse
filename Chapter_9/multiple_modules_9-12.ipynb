{
 "cells": [
  {
   "cell_type": "code",
   "execution_count": 1,
   "metadata": {},
   "outputs": [
    {
     "name": "stdout",
     "output_type": "stream",
     "text": [
      "The following privileges are available:\n",
      "\tCan Add Post\n",
      "\tCan Delete Post\n",
      "\tCan Ban User\n"
     ]
    }
   ],
   "source": [
    "from admin import Admin\n",
    "# Yes, this is similar to how the previous exercise, 9-11, did it, but we are importing a different module and that\n",
    "# module is also importing a module (admin is importing base_user)\n",
    "\n",
    "another_admin = Admin(\"The\", \"Guy\", 22, \"funnyUserNameHere\")\n",
    "another_admin.privileges.show_privs()"
   ]
  }
 ],
 "metadata": {
  "kernelspec": {
   "display_name": "Python 3.8.10 64-bit (windows store)",
   "language": "python",
   "name": "python3"
  },
  "language_info": {
   "codemirror_mode": {
    "name": "ipython",
    "version": 3
   },
   "file_extension": ".py",
   "mimetype": "text/x-python",
   "name": "python",
   "nbconvert_exporter": "python",
   "pygments_lexer": "ipython3",
   "version": "3.8.10"
  },
  "orig_nbformat": 4,
  "vscode": {
   "interpreter": {
    "hash": "e595f85de599493997975742c38fdbdf439561c4d118c24f05252253c8fa7d2c"
   }
  }
 },
 "nbformat": 4,
 "nbformat_minor": 2
}
